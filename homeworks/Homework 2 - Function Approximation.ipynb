{
 "cells": [
  {
   "cell_type": "markdown",
   "metadata": {},
   "source": [
    "# Homework 2: Function approximation"
   ]
  },
  {
   "cell_type": "markdown",
   "metadata": {},
   "source": [
    "**Your task**\n",
    "\n",
    "- Implement experience replay for CartPole with linear function approximation.  (4p)\n",
    "\n",
    "- **Bonus**: implement DQN with experience replay. Use a neural network instead of a linear approximator (2p):\n",
    "\n",
    "- *Bonus points*: 1 bug found in my code (hopefully none, but it happens) = 1 extra point.\n",
    "    - Bug 1: td_target calculation should use `np.max(estimator.predict(new_state))` instead of `np.amax()`\n",
    "    - Bug 2: set `state = new_state` at the end of `while not done:` loop\n",
    "\n",
    "You can borrow inspiration from tutorial 5 (`05 fa_cartpole_sklearn.py`)."
   ]
  },
  {
   "cell_type": "markdown",
   "metadata": {},
   "source": [
    "#### My comments\n",
    "\n",
    "The training is still quite unstable and sensitive to the behavior at the beginning."
   ]
  },
  {
   "cell_type": "code",
   "execution_count": 74,
   "metadata": {
    "collapsed": true
   },
   "outputs": [],
   "source": [
    "%matplotlib inline\n",
    "import numpy as np\n",
    "import gym\n",
    "import matplotlib.pyplot as plt\n",
    "from collections import deque\n",
    "from sklearn.linear_model import SGDRegressor"
   ]
  },
  {
   "cell_type": "code",
   "execution_count": 87,
   "metadata": {
    "collapsed": true
   },
   "outputs": [],
   "source": [
    "def plot_rewards(avg_rewards, title):\n",
    "    plt.plot(np.array(range(len(avg_rewards)))*100, avg_rewards)\n",
    "    plt.ylabel('average reward in 100 episodes')\n",
    "    #plt.ylim(0.2, 1)\n",
    "    plt.xlabel('episode')\n",
    "    plt.title(title)\n",
    "\n",
    "class FunctionEstimator:\n",
    "    def __init__(self,env, alpha=0.001):\n",
    "        self.alpha = alpha\n",
    "        self.env = env\n",
    "        self.n_actions = env.action_space.n\n",
    "        self.possible_actions = range(env.action_space.n)\n",
    "        self.initial_state = self.featurize(env.reset())\n",
    "        self.state_dim = len(self.initial_state)\n",
    "        self.w = np.ones(shape=(self.state_dim, self.n_actions), dtype=float) #parameters of the function approximating Q table\n",
    "    \n",
    "    def featurize(self,state):\n",
    "        \"\"\"\n",
    "        Turn state into feature vector so it can be inputted into the function approximating Q table.\n",
    "        \"\"\"\n",
    "        return np.tanh(state)\n",
    "    \n",
    "    def gradient(self, state, action):\n",
    "        \"\"\"\n",
    "        f(state,action) = state*w_action\n",
    "        df(state, action)/dw_action = state\n",
    "        \"\"\"\n",
    "        return state\n",
    "    \n",
    "    def update(self, state, action, td_target):\n",
    "        \"\"\"\n",
    "        Update the parameters by gradient descend.\n",
    "        Move the result of f(state, action) closer to target = minimize squared error.\n",
    "        \"\"\"\n",
    "        state = self.featurize(state) \n",
    "        \n",
    "        target = td_target\n",
    "        prediction = self.predict(state)[action]\n",
    "        error = target - prediction\n",
    "        gradient = self.gradient(state, action)\n",
    "        \n",
    "        self.w[:,action] -= self.alpha * error * (-1 * gradient)\n",
    "        \n",
    "    def batch_update(self, history, batch_size=5):\n",
    "        history = np.array(history)\n",
    "        length = history.shape[0]\n",
    "        \n",
    "        if length <= batch_size:\n",
    "            batch = history\n",
    "        else:\n",
    "            idxs = np.random.choice(length, batch_size, replace=False) #select indexes of points from history\n",
    "            batch = history[idxs] # select points from history to learn from\n",
    "        \n",
    "        for i in range(batch.shape[0]):\n",
    "            [state, action, reward, new_state, td_target] = batch[i]\n",
    "            self.update(state, action, td_target)\n",
    "        \n",
    "    def predict(self,state):\n",
    "        \"\"\"\n",
    "        Predict Q-values of every action in a given state.\n",
    "        Policy will then select which action to take based on these Q-values.\n",
    "        \"\"\"\n",
    "        state = self.featurize(state)\n",
    "        return np.dot(state, self.w).flatten() # linear function\n",
    "\n",
    "        \n",
    "def make_policy(estimator, epsilon):\n",
    "    \"\"\"\n",
    "    Epsilon greedy policy choosing which action to take.\n",
    "    \"\"\"\n",
    "    def policy_fn(state):\n",
    "        preds = estimator.predict(state)\n",
    "        if np.random.rand()>epsilon:\n",
    "            action = np.argmax(preds)\n",
    "        else:\n",
    "            action = np.random.choice(estimator.possible_actions)\n",
    "        return action\n",
    "    \n",
    "    return policy_fn\n",
    "\n",
    "\n",
    "def run_episodes(n_episodes = 1000, gamma = 1, experience_replay=False):\n",
    "    env = gym.make('CartPole-v0')\n",
    "\n",
    "    estimator = FunctionEstimator(env)\n",
    "    history = []\n",
    "    episode_rewards = []\n",
    "    avg_episode_rewards = []\n",
    "\n",
    "    for ep in range(n_episodes):\n",
    "        state = env.reset()\n",
    "        done = False\n",
    "        policy = make_policy(estimator, 0.99**ep) # reduce epsilon\n",
    "        ep_reward = 0\n",
    "\n",
    "        while not done:\n",
    "            action = policy(state)\n",
    "            new_state, reward, done, _ = env.step(action)\n",
    "            ep_reward += reward\n",
    "\n",
    "            # Calculate the target Q-value we want to approximate\n",
    "            if done:\n",
    "                td_target = ep_reward\n",
    "            else:\n",
    "                td_target = reward + gamma*np.max(estimator.predict(new_state))\n",
    "            \n",
    "            # Keep track of the states    \n",
    "            history.append([state, action, reward, new_state, td_target])\n",
    "            \n",
    "            # Update the parameters of our approximator\n",
    "            if experience_replay:\n",
    "                estimator.batch_update(history[-500:])   # with experience replay, select only from last 100 episodes for performance reasons\n",
    "            else:\n",
    "                estimator.update(state,action,td_target) # without experience replay\n",
    "            \n",
    "            state = new_state\n",
    "\n",
    "        episode_rewards.append(ep_reward)\n",
    "        # Show stats\n",
    "        if (ep) % 100 == 0:\n",
    "            avg_episode_rewards.append(np.average(episode_rewards[-100:]))\n",
    "            print(\"Reward at episode {} is {} | avg in last 100: {}\"\n",
    "                  .format(ep,ep_reward, avg_episode_rewards[-1]))\n",
    "            \n",
    "    env.close()\n",
    "    return episode_rewards, avg_episode_rewards"
   ]
  },
  {
   "cell_type": "code",
   "execution_count": 69,
   "metadata": {
    "collapsed": false
   },
   "outputs": [
    {
     "name": "stdout",
     "output_type": "stream",
     "text": [
      "\u001b[33mWARN: gym.spaces.Box autodetected dtype as <class 'numpy.float32'>. Please provide explicit dtype.\u001b[0m\n",
      "Reward at episode 0 is 12.0 | avg in last 100: 12.0\n",
      "Reward at episode 100 is 177.0 | avg in last 100: 56.52\n",
      "Reward at episode 200 is 200.0 | avg in last 100: 165.3\n",
      "Reward at episode 300 is 174.0 | avg in last 100: 196.28\n",
      "Reward at episode 400 is 200.0 | avg in last 100: 195.89\n",
      "Reward at episode 500 is 200.0 | avg in last 100: 187.29\n",
      "Reward at episode 600 is 200.0 | avg in last 100: 193.88\n",
      "Reward at episode 700 is 200.0 | avg in last 100: 188.91\n",
      "Reward at episode 800 is 125.0 | avg in last 100: 180.29\n",
      "Reward at episode 900 is 148.0 | avg in last 100: 175.12\n"
     ]
    }
   ],
   "source": [
    "episode_rewards_no_exp, avg_episode_rewards_no_exp = run_episodes(n_episodes=1000, experience_replay=False)"
   ]
  },
  {
   "cell_type": "code",
   "execution_count": 75,
   "metadata": {
    "collapsed": false
   },
   "outputs": [
    {
     "data": {
      "image/png": "[encoded data removed]",
      "text/plain": [
       "<matplotlib.figure.Figure at 0x23987a6ec18>"
      ]
     },
     "metadata": {},
     "output_type": "display_data"
    }
   ],
   "source": [
    "plot_rewards(avg_episode_rewards_no_exp, \"Without experience replay\")"
   ]
  },
  {
   "cell_type": "code",
   "execution_count": 92,
   "metadata": {
    "collapsed": false
   },
   "outputs": [
    {
     "name": "stdout",
     "output_type": "stream",
     "text": [
      "\u001b[33mWARN: gym.spaces.Box autodetected dtype as <class 'numpy.float32'>. Please provide explicit dtype.\u001b[0m\n",
      "Reward at episode 0 is 14.0 | avg in last 100: 14.0\n",
      "Reward at episode 100 is 160.0 | avg in last 100: 67.65\n",
      "Reward at episode 200 is 116.0 | avg in last 100: 176.43\n",
      "Reward at episode 300 is 200.0 | avg in last 100: 185.31\n",
      "Reward at episode 400 is 200.0 | avg in last 100: 192.09\n",
      "Reward at episode 500 is 75.0 | avg in last 100: 168.84\n",
      "Reward at episode 600 is 200.0 | avg in last 100: 197.24\n",
      "Reward at episode 700 is 165.0 | avg in last 100: 184.23\n",
      "Reward at episode 800 is 200.0 | avg in last 100: 175.79\n",
      "Reward at episode 900 is 200.0 | avg in last 100: 200.0\n"
     ]
    }
   ],
   "source": [
    "episode_rewards_exp, avg_episode_rewards_exp = run_episodes(n_episodes=1000, experience_replay=True)"
   ]
  },
  {
   "cell_type": "code",
   "execution_count": 93,
   "metadata": {
    "collapsed": false
   },
   "outputs": [
    {
     "data": {
      "image/png": "[encoded data removed]",
      "text/plain": [
       "<matplotlib.figure.Figure at 0x2398d775128>"
      ]
     },
     "metadata": {},
     "output_type": "display_data"
    }
   ],
   "source": [
    "plot_rewards(avg_episode_rewards_exp, \"With experience replay\")"
   ]
  },
  {
   "cell_type": "code",
   "execution_count": null,
   "metadata": {
    "collapsed": true
   },
   "outputs": [],
   "source": []
  }
 ],
 "metadata": {
  "kernelspec": {
   "display_name": "Python 3",
   "language": "python",
   "name": "python3"
  },
  "language_info": {
   "codemirror_mode": {
    "name": "ipython",
    "version": 3
   },
   "file_extension": ".py",
   "mimetype": "text/x-python",
   "name": "python",
   "nbconvert_exporter": "python",
   "pygments_lexer": "ipython3",
   "version": "3.6.0"
  }
 },
 "nbformat": 4,
 "nbformat_minor": 2
}
