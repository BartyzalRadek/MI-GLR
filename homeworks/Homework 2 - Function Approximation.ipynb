{
 "cells": [
  {
   "cell_type": "markdown",
   "metadata": {},
   "source": [
    "# Homework 2: Function approximation"
   ]
  },
  {
   "cell_type": "markdown",
   "metadata": {},
   "source": [
    "**Your task**\n",
    "\n",
    "- Implement experience replay for CartPole with linear function approximation.  (4p)\n",
    "\n",
    "- **Bonus**: implement DQN with experience replay. Use a neural network instead of a linear approximator (2p):\n",
    "\n",
    "- *Bonus points*: 1 bug found in my code (hopefully none, but it happens) = 1 extra point.\n",
    "\n",
    "You can borrow inspiration from tutorial 5 (`05 fa_cartpole_sklearn.py`)."
   ]
  },
  {
   "cell_type": "code",
   "execution_count": 1,
   "metadata": {
    "collapsed": true
   },
   "outputs": [],
   "source": [
    "import numpy as np\n",
    "import gym\n",
    "import matplotlib.pyplot as plt"
   ]
  },
  {
   "cell_type": "code",
   "execution_count": null,
   "metadata": {
    "collapsed": true
   },
   "outputs": [],
   "source": [
    "class FunctionEstimator:\n",
    "    def __init__(self,env):\n",
    "        self.env = env\n",
    "        self.n_actions = env.action_space.n\n",
    "        self.possible_actions = range(env.action_space.n)\n",
    "        self.initial_state = self.featurize(env.reset())\n",
    "        self.theta = np.ones(shape=(self.n_actions,), dtype=float) #parameters of the function approximating Q table\n",
    "    \n",
    "    def featurize(self,state):\n",
    "        \"\"\"\n",
    "        Turn state into feature vector so it can be inputted into the function approximating Q table.\n",
    "        \"\"\"\n",
    "        return state\n",
    "    \n",
    "    def update(self, state, action, td_target):\n",
    "        \"\"\"\n",
    "        Update the parameters theta by gradient descend.\n",
    "        \"\"\"\n",
    "        state = self.featurize(state) \n",
    "        return None\n",
    "        \n",
    "    def predict(self,state):\n",
    "        \"\"\"\n",
    "        Predict Q-values of every action in a given state.\n",
    "        Policy will then select which action to take based on these Q-values.\n",
    "        \"\"\"\n",
    "        state = self.featurize(state)\n",
    "        return None\n",
    "\n",
    "\n",
    "        \n",
    "def make_policy(estimator, epsilon):\n",
    "    \"\"\"\n",
    "    Epsilon greedy policy choosing which action to take.\n",
    "    \"\"\"\n",
    "    def policy_fn(state):\n",
    "        preds = estimator.predict(state)\n",
    "        if np.random.rand()>epsilon:\n",
    "            action = np.argmax(preds)\n",
    "        else:\n",
    "            action = np.random.choice(estimator.possible_actions)\n",
    "        return action\n",
    "    \n",
    "    return policy_fn\n",
    "\n",
    "\n",
    "def run_episodes(n_episodes = 1000, gamma = 1):\n",
    "    env = gym.make('CartPole-v0')\n",
    "\n",
    "    estimator = FunctionEstimator(env)\n",
    "    states = []\n",
    "    last_states = deque(maxlen=100)\n",
    "\n",
    "    for ep in range(n_episodes):\n",
    "        state = env.reset()\n",
    "        done = False\n",
    "        policy = make_policy(estimator, 0.99**ep) # reduce epsilon\n",
    "        ep_reward = 0\n",
    "\n",
    "        while not done:\n",
    "            action = policy(state)\n",
    "            new_state, reward, done, _ = env.step(action)\n",
    "            ep_reward += reward\n",
    "\n",
    "            # Keep track of the states    \n",
    "            states.append(new_state[0])\n",
    "            last_states.append(new_state[0])\n",
    "\n",
    "            # Update the Q-function\n",
    "            td_target = reward\n",
    "            if not done:\n",
    "                td_target = reward + gamma*np.amax(estimator.predict(new_state))\n",
    "            estimator.update(state,action,td_target)\n",
    "\n",
    "        # Show stats\n",
    "        if (ep) % 50 == 0:\n",
    "            print('*'*100)\n",
    "            print(\"INFO: Reward at episode {0} is {1}\".format(ep+1,ep_reward))\n",
    "            print(\"Best state reached (overall):\", np.max(states))\n",
    "            print(\"Best state reached (last 100):\", np.max(last_states))\n",
    "            \n",
    "    env.close()"
   ]
  }
 ],
 "metadata": {
  "kernelspec": {
   "display_name": "Python 3",
   "language": "python",
   "name": "python3"
  },
  "language_info": {
   "codemirror_mode": {
    "name": "ipython",
    "version": 3
   },
   "file_extension": ".py",
   "mimetype": "text/x-python",
   "name": "python",
   "nbconvert_exporter": "python",
   "pygments_lexer": "ipython3",
   "version": "3.6.0"
  }
 },
 "nbformat": 4,
 "nbformat_minor": 2
}
