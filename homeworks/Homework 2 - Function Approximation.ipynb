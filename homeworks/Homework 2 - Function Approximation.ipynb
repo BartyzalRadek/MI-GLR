{
 "cells": [
  {
   "cell_type": "markdown",
   "metadata": {},
   "source": [
    "# Homework 2: Function approximation"
   ]
  },
  {
   "cell_type": "markdown",
   "metadata": {},
   "source": [
    "**Your task**\n",
    "\n",
    "- Implement experience replay for CartPole with linear function approximation.  (4p)\n",
    "\n",
    "- **Bonus**: implement DQN with experience replay. Use a neural network instead of a linear approximator (2p):\n",
    "\n",
    "- *Bonus points*: 1 bug found in my code (hopefully none, but it happens) = 1 extra point.\n",
    "\n",
    "You can borrow inspiration from tutorial 5 (`05 fa_cartpole_sklearn.py`)."
   ]
  },
  {
   "cell_type": "code",
   "execution_count": null,
   "metadata": {},
   "outputs": [],
   "source": []
  }
 ],
 "metadata": {
  "kernelspec": {
   "display_name": "Python 3",
   "language": "python",
   "name": "python3"
  },
  "language_info": {
   "codemirror_mode": {
    "name": "ipython",
    "version": 3
   },
   "file_extension": ".py",
   "mimetype": "text/x-python",
   "name": "python",
   "nbconvert_exporter": "python",
   "pygments_lexer": "ipython3",
   "version": "3.6.4"
  }
 },
 "nbformat": 4,
 "nbformat_minor": 2
}
