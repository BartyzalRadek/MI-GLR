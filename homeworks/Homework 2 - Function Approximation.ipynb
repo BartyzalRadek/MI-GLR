{
 "cells": [
  {
   "cell_type": "markdown",
   "metadata": {},
   "source": [
    "# Homework 2: Function approximation"
   ]
  },
  {
   "cell_type": "markdown",
   "metadata": {},
   "source": [
    "**Your task**\n",
    "\n",
    "- Implement experience replay for CartPole with linear function approximation.  (4p)\n",
    "\n",
    "- **Bonus**: implement DQN with experience replay. Use a neural network instead of a linear approximator (2p):\n",
    "\n",
    "- *Bonus points*: 1 bug found in my code (hopefully none, but it happens) = 1 extra point.\n",
    "    - Bug 1: td_target calculation should use `np.max(estimator.predict(new_state))` instead of `np.amax()`\n",
    "    - Bug 2: set `state = new_state` at the end of `while not done:` loop\n",
    "\n",
    "You can borrow inspiration from tutorial 5 (`05 fa_cartpole_sklearn.py`)."
   ]
  },
  {
   "cell_type": "code",
   "execution_count": 3,
   "metadata": {
    "collapsed": true
   },
   "outputs": [],
   "source": [
    "import numpy as np\n",
    "import gym\n",
    "import matplotlib.pyplot as plt\n",
    "from collections import deque\n",
    "from sklearn.linear_model import SGDRegressor"
   ]
  },
  {
   "cell_type": "code",
   "execution_count": 61,
   "metadata": {
    "collapsed": true
   },
   "outputs": [],
   "source": [
    "class FunctionEstimator:\n",
    "    def __init__(self,env, alpha=0.001):\n",
    "        self.alpha = alpha\n",
    "        self.env = env\n",
    "        self.n_actions = env.action_space.n\n",
    "        self.possible_actions = range(env.action_space.n)\n",
    "        self.initial_state = self.featurize(env.reset())\n",
    "        self.state_dim = len(self.initial_state)\n",
    "        self.w = np.ones(shape=(self.state_dim, self.n_actions), dtype=float) #parameters of the function approximating Q table\n",
    "    \n",
    "    def featurize(self,state):\n",
    "        \"\"\"\n",
    "        Turn state into feature vector so it can be inputted into the function approximating Q table.\n",
    "        \"\"\"\n",
    "        return np.tanh(state)\n",
    "    \n",
    "    def gradient(self, state, action):\n",
    "        \"\"\"\n",
    "        f(state,action) = state*w_action\n",
    "        df(state, action)/dw_action = state\n",
    "        \"\"\"\n",
    "        return state\n",
    "    \n",
    "    def update(self, state, action, td_target):\n",
    "        \"\"\"\n",
    "        Update the parameters by gradient descend.\n",
    "        Move the result of f(state, action) closer to target = minimize MSE.\n",
    "        \"\"\"\n",
    "        state = self.featurize(state) \n",
    "        \n",
    "        target = td_target\n",
    "        prediction = self.predict(state)[action]\n",
    "        error = target - prediction\n",
    "        gradient = self.gradient(state, action)\n",
    "        \n",
    "        self.w[:,action] -= self.alpha * error * (-1 * gradient)\n",
    "        \n",
    "    def batch_update(self, history, batch_size=5):\n",
    "        history = np.array(history)\n",
    "        length = history.shape[0]\n",
    "        \n",
    "        if length <= batch_size:\n",
    "            batch = history\n",
    "        else:\n",
    "            idxs = np.random.choice(length, batch_size, replace=False) #select indexes of points from history\n",
    "            batch = history[idxs] # select points from history to learn from\n",
    "        \n",
    "        for i in range(batch.shape[0]):\n",
    "            [state, action, reward, new_state, td_target] = batch[i]\n",
    "            self.update(state, action, td_target)\n",
    "        \n",
    "    def predict(self,state):\n",
    "        \"\"\"\n",
    "        Predict Q-values of every action in a given state.\n",
    "        Policy will then select which action to take based on these Q-values.\n",
    "        \"\"\"\n",
    "        state = self.featurize(state)\n",
    "        return np.dot(state, self.w).flatten() # linear function\n",
    "\n",
    "        \n",
    "def make_policy(estimator, epsilon):\n",
    "    \"\"\"\n",
    "    Epsilon greedy policy choosing which action to take.\n",
    "    \"\"\"\n",
    "    def policy_fn(state):\n",
    "        preds = estimator.predict(state)\n",
    "        if np.random.rand()>epsilon:\n",
    "            action = np.argmax(preds)\n",
    "        else:\n",
    "            action = np.random.choice(estimator.possible_actions)\n",
    "        return action\n",
    "    \n",
    "    return policy_fn\n",
    "\n",
    "\n",
    "def run_episodes(n_episodes = 1000, gamma = 1):\n",
    "    env = gym.make('CartPole-v0')\n",
    "\n",
    "    estimator = FunctionEstimator(env)\n",
    "    history = []\n",
    "    episode_rewards = []\n",
    "\n",
    "    for ep in range(n_episodes):\n",
    "        state = env.reset()\n",
    "        done = False\n",
    "        policy = make_policy(estimator, 0.99**ep) # reduce epsilon\n",
    "        ep_reward = 0\n",
    "\n",
    "        while not done:\n",
    "            action = policy(state)\n",
    "            new_state, reward, done, _ = env.step(action)\n",
    "            ep_reward += reward\n",
    "\n",
    "            # Update the Q-function\n",
    "            if done:\n",
    "                td_target = ep_reward\n",
    "            else:\n",
    "                td_target = reward + gamma*np.max(estimator.predict(new_state))\n",
    "            \n",
    "            # Keep track of the states    \n",
    "            history.append([state, action, reward, new_state, td_target])\n",
    "            \n",
    "            #estimator.update(state,action,td_target) # without experience replay\n",
    "            estimator.batch_update(history[-100:])         # with experience replay\n",
    "            \n",
    "            state = new_state\n",
    "\n",
    "        episode_rewards.append(ep_reward)\n",
    "        # Show stats\n",
    "        if (ep) % 100 == 0:\n",
    "            #print('*'*100)\n",
    "            print(\"INFO: Reward at episode {} is {} | avg in last 100: {} | w={}\"\n",
    "                  .format(ep,ep_reward, np.average(episode_rewards[-100:]), estimator.w))\n",
    "            \n",
    "    env.close()"
   ]
  },
  {
   "cell_type": "code",
   "execution_count": 62,
   "metadata": {
    "collapsed": false
   },
   "outputs": [
    {
     "name": "stdout",
     "output_type": "stream",
     "text": [
      "\u001b[33mWARN: gym.spaces.Box autodetected dtype as <class 'numpy.float32'>. Please provide explicit dtype.\u001b[0m\n",
      "INFO: Reward at episode 0 is 42.0 | avg in last 100: 42.0 | w=[[ 1.00097404  1.00005722]\n",
      " [ 0.99373492  0.98483588]\n",
      " [ 0.99720467  0.99820808]\n",
      " [ 0.99660423  1.01232684]]\n",
      "INFO: Reward at episode 100 is 35.0 | avg in last 100: 57.0 | w=[[ 2.08690129  1.78788476]\n",
      " [ 3.74974809  3.35901264]\n",
      " [ 0.15283881  1.53076725]\n",
      " [-2.68210934  2.40561922]]\n",
      "INFO: Reward at episode 200 is 157.0 | avg in last 100: 176.51 | w=[[ -2.25959391e+00   1.38102728e+00]\n",
      " [  1.11174700e+00   7.37940994e+00]\n",
      " [  4.64043679e-03   4.21131614e+00]\n",
      " [ -5.89146013e+00   1.09774520e+01]]\n",
      "INFO: Reward at episode 300 is 200.0 | avg in last 100: 194.55 | w=[[ -4.06894849  -7.67611794]\n",
      " [ -2.21333537   3.28140213]\n",
      " [ -0.64360084   5.30080772]\n",
      " [-11.53663604  14.1085186 ]]\n",
      "INFO: Reward at episode 400 is 200.0 | avg in last 100: 194.29 | w=[[ -7.44752497  -9.99959068]\n",
      " [ -4.12410456   3.49934027]\n",
      " [ -0.78679853   5.20763887]\n",
      " [-16.45103594  15.99252278]]\n",
      "INFO: Reward at episode 500 is 200.0 | avg in last 100: 200.0 | w=[[ -7.62886219  -8.51932722]\n",
      " [ -6.69776428   2.75242746]\n",
      " [ -1.0207409    4.94869498]\n",
      " [-20.72796039  18.18678614]]\n",
      "INFO: Reward at episode 600 is 200.0 | avg in last 100: 200.0 | w=[[-13.37412629  -7.11489364]\n",
      " [ -7.81354189   5.55009882]\n",
      " [  0.13775751   4.81645136]\n",
      " [-23.27229202  19.98138855]]\n"
     ]
    },
    {
     "ename": "KeyboardInterrupt",
     "evalue": "",
     "output_type": "error",
     "traceback": [
      "\u001b[0;31m---------------------------------------------------------------------------\u001b[0m",
      "\u001b[0;31mKeyboardInterrupt\u001b[0m                         Traceback (most recent call last)",
      "\u001b[0;32m<ipython-input-62-19b820d28bf2>\u001b[0m in \u001b[0;36m<module>\u001b[0;34m()\u001b[0m\n\u001b[0;32m----> 1\u001b[0;31m \u001b[0mrun_episodes\u001b[0m\u001b[1;33m(\u001b[0m\u001b[0mn_episodes\u001b[0m\u001b[1;33m=\u001b[0m\u001b[1;36m1000\u001b[0m\u001b[1;33m)\u001b[0m\u001b[1;33m\u001b[0m\u001b[0m\n\u001b[0m",
      "\u001b[0;32m<ipython-input-61-2b0c716cd070>\u001b[0m in \u001b[0;36mrun_episodes\u001b[0;34m(n_episodes, gamma)\u001b[0m\n\u001b[1;32m    102\u001b[0m \u001b[1;33m\u001b[0m\u001b[0m\n\u001b[1;32m    103\u001b[0m             \u001b[1;31m#estimator.update(state,action,td_target) # without experience replay\u001b[0m\u001b[1;33m\u001b[0m\u001b[1;33m\u001b[0m\u001b[0m\n\u001b[0;32m--> 104\u001b[0;31m             \u001b[0mestimator\u001b[0m\u001b[1;33m.\u001b[0m\u001b[0mbatch_update\u001b[0m\u001b[1;33m(\u001b[0m\u001b[0mhistory\u001b[0m\u001b[1;33m[\u001b[0m\u001b[1;33m-\u001b[0m\u001b[1;36m100\u001b[0m\u001b[1;33m:\u001b[0m\u001b[1;33m]\u001b[0m\u001b[1;33m)\u001b[0m         \u001b[1;31m# with experience replay\u001b[0m\u001b[1;33m\u001b[0m\u001b[0m\n\u001b[0m\u001b[1;32m    105\u001b[0m \u001b[1;33m\u001b[0m\u001b[0m\n\u001b[1;32m    106\u001b[0m             \u001b[0mstate\u001b[0m \u001b[1;33m=\u001b[0m \u001b[0mnew_state\u001b[0m\u001b[1;33m\u001b[0m\u001b[0m\n",
      "\u001b[0;32m<ipython-input-61-2b0c716cd070>\u001b[0m in \u001b[0;36mbatch_update\u001b[0;34m(self, history, batch_size)\u001b[0m\n\u001b[1;32m     48\u001b[0m         \u001b[1;32mfor\u001b[0m \u001b[0mi\u001b[0m \u001b[1;32min\u001b[0m \u001b[0mrange\u001b[0m\u001b[1;33m(\u001b[0m\u001b[0mbatch\u001b[0m\u001b[1;33m.\u001b[0m\u001b[0mshape\u001b[0m\u001b[1;33m[\u001b[0m\u001b[1;36m0\u001b[0m\u001b[1;33m]\u001b[0m\u001b[1;33m)\u001b[0m\u001b[1;33m:\u001b[0m\u001b[1;33m\u001b[0m\u001b[0m\n\u001b[1;32m     49\u001b[0m             \u001b[1;33m[\u001b[0m\u001b[0mstate\u001b[0m\u001b[1;33m,\u001b[0m \u001b[0maction\u001b[0m\u001b[1;33m,\u001b[0m \u001b[0mreward\u001b[0m\u001b[1;33m,\u001b[0m \u001b[0mnew_state\u001b[0m\u001b[1;33m,\u001b[0m \u001b[0mtd_target\u001b[0m\u001b[1;33m]\u001b[0m \u001b[1;33m=\u001b[0m \u001b[0mbatch\u001b[0m\u001b[1;33m[\u001b[0m\u001b[0mi\u001b[0m\u001b[1;33m]\u001b[0m\u001b[1;33m\u001b[0m\u001b[0m\n\u001b[0;32m---> 50\u001b[0;31m             \u001b[0mself\u001b[0m\u001b[1;33m.\u001b[0m\u001b[0mupdate\u001b[0m\u001b[1;33m(\u001b[0m\u001b[0mstate\u001b[0m\u001b[1;33m,\u001b[0m \u001b[0maction\u001b[0m\u001b[1;33m,\u001b[0m \u001b[0mtd_target\u001b[0m\u001b[1;33m)\u001b[0m\u001b[1;33m\u001b[0m\u001b[0m\n\u001b[0m\u001b[1;32m     51\u001b[0m \u001b[1;33m\u001b[0m\u001b[0m\n\u001b[1;32m     52\u001b[0m     \u001b[1;32mdef\u001b[0m \u001b[0mpredict\u001b[0m\u001b[1;33m(\u001b[0m\u001b[0mself\u001b[0m\u001b[1;33m,\u001b[0m\u001b[0mstate\u001b[0m\u001b[1;33m)\u001b[0m\u001b[1;33m:\u001b[0m\u001b[1;33m\u001b[0m\u001b[0m\n",
      "\u001b[0;32m<ipython-input-61-2b0c716cd070>\u001b[0m in \u001b[0;36mupdate\u001b[0;34m(self, state, action, td_target)\u001b[0m\n\u001b[1;32m     30\u001b[0m \u001b[1;33m\u001b[0m\u001b[0m\n\u001b[1;32m     31\u001b[0m         \u001b[0mtarget\u001b[0m \u001b[1;33m=\u001b[0m \u001b[0mtd_target\u001b[0m\u001b[1;33m\u001b[0m\u001b[0m\n\u001b[0;32m---> 32\u001b[0;31m         \u001b[0mprediction\u001b[0m \u001b[1;33m=\u001b[0m \u001b[0mself\u001b[0m\u001b[1;33m.\u001b[0m\u001b[0mpredict\u001b[0m\u001b[1;33m(\u001b[0m\u001b[0mstate\u001b[0m\u001b[1;33m)\u001b[0m\u001b[1;33m[\u001b[0m\u001b[0maction\u001b[0m\u001b[1;33m]\u001b[0m\u001b[1;33m\u001b[0m\u001b[0m\n\u001b[0m\u001b[1;32m     33\u001b[0m         \u001b[0merror\u001b[0m \u001b[1;33m=\u001b[0m \u001b[0mtarget\u001b[0m \u001b[1;33m-\u001b[0m \u001b[0mprediction\u001b[0m\u001b[1;33m\u001b[0m\u001b[0m\n\u001b[1;32m     34\u001b[0m         \u001b[0mgradient\u001b[0m \u001b[1;33m=\u001b[0m \u001b[0mself\u001b[0m\u001b[1;33m.\u001b[0m\u001b[0mgradient\u001b[0m\u001b[1;33m(\u001b[0m\u001b[0mstate\u001b[0m\u001b[1;33m,\u001b[0m \u001b[0maction\u001b[0m\u001b[1;33m)\u001b[0m\u001b[1;33m\u001b[0m\u001b[0m\n",
      "\u001b[0;32m<ipython-input-61-2b0c716cd070>\u001b[0m in \u001b[0;36mpredict\u001b[0;34m(self, state)\u001b[0m\n\u001b[1;32m     56\u001b[0m         \"\"\"\n\u001b[1;32m     57\u001b[0m         \u001b[0mstate\u001b[0m \u001b[1;33m=\u001b[0m \u001b[0mself\u001b[0m\u001b[1;33m.\u001b[0m\u001b[0mfeaturize\u001b[0m\u001b[1;33m(\u001b[0m\u001b[0mstate\u001b[0m\u001b[1;33m)\u001b[0m\u001b[1;33m\u001b[0m\u001b[0m\n\u001b[0;32m---> 58\u001b[0;31m         \u001b[1;32mreturn\u001b[0m \u001b[0mnp\u001b[0m\u001b[1;33m.\u001b[0m\u001b[0mdot\u001b[0m\u001b[1;33m(\u001b[0m\u001b[0mstate\u001b[0m\u001b[1;33m,\u001b[0m \u001b[0mself\u001b[0m\u001b[1;33m.\u001b[0m\u001b[0mw\u001b[0m\u001b[1;33m)\u001b[0m\u001b[1;33m.\u001b[0m\u001b[0mflatten\u001b[0m\u001b[1;33m(\u001b[0m\u001b[1;33m)\u001b[0m \u001b[1;31m# linear function\u001b[0m\u001b[1;33m\u001b[0m\u001b[0m\n\u001b[0m\u001b[1;32m     59\u001b[0m \u001b[1;33m\u001b[0m\u001b[0m\n\u001b[1;32m     60\u001b[0m \u001b[1;33m\u001b[0m\u001b[0m\n",
      "\u001b[0;31mKeyboardInterrupt\u001b[0m: "
     ]
    }
   ],
   "source": [
    "run_episodes(n_episodes=1000)"
   ]
  },
  {
   "cell_type": "code",
   "execution_count": null,
   "metadata": {
    "collapsed": false
   },
   "outputs": [],
   "source": []
  },
  {
   "cell_type": "code",
   "execution_count": 29,
   "metadata": {
    "collapsed": false
   },
   "outputs": [
    {
     "name": "stdout",
     "output_type": "stream",
     "text": [
      "x: [[ 0  1  2  3]\n",
      " [ 4  5  6  7]\n",
      " [ 8  9 10 11]\n",
      " [12 13 14 15]]\n",
      "idxs: [2 3 1]\n",
      "x[idxs]: [[ 8  9 10 11]\n",
      " [12 13 14 15]\n",
      " [ 4  5  6  7]]\n"
     ]
    }
   ],
   "source": [
    "x = np.array(range(16)).reshape(4,4)\n",
    "length = x.shape[0]\n",
    "batch_size = 3\n",
    "idxs = np.random.choice(length, batch_size, replace=False)\n",
    "print(\"x:\",x)\n",
    "print(\"idxs:\",idxs)\n",
    "print(\"x[idxs]:\",x[idxs])"
   ]
  },
  {
   "cell_type": "code",
   "execution_count": 32,
   "metadata": {
    "collapsed": false
   },
   "outputs": [
    {
     "name": "stdout",
     "output_type": "stream",
     "text": [
      "4 5 6 7\n"
     ]
    }
   ],
   "source": [
    "[a,b,c,d] = x[1]\n",
    "print(a,b,c,d)"
   ]
  },
  {
   "cell_type": "code",
   "execution_count": null,
   "metadata": {
    "collapsed": true
   },
   "outputs": [],
   "source": []
  }
 ],
 "metadata": {
  "kernelspec": {
   "display_name": "Python 3",
   "language": "python",
   "name": "python3"
  },
  "language_info": {
   "codemirror_mode": {
    "name": "ipython",
    "version": 3
   },
   "file_extension": ".py",
   "mimetype": "text/x-python",
   "name": "python",
   "nbconvert_exporter": "python",
   "pygments_lexer": "ipython3",
   "version": "3.6.0"
  }
 },
 "nbformat": 4,
 "nbformat_minor": 2
}
