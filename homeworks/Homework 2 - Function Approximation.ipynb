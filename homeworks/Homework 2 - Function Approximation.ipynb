{
 "cells": [
  {
   "cell_type": "markdown",
   "metadata": {},
   "source": [
    "# Homework 2: Function approximation"
   ]
  },
  {
   "cell_type": "markdown",
   "metadata": {},
   "source": [
    "**Your task**\n",
    "\n",
    "- Implement experience replay for CartPole with linear function approximation.  (4p)\n",
    "\n",
    "- **Bonus**: implement DQN with experience replay. Use a neural network instead of a linear approximator (2p):\n",
    "\n",
    "- *Bonus points*: 1 bug found in my code (hopefully none, but it happens) = 1 extra point.\n",
    "    - Bug 1: td_target calculation should use `np.max(estimator.predict(new_state))` instead of `np.amax()`\n",
    "    - Bug 2: set `state = new_state` at the end of `while not done:` loop\n",
    "\n",
    "You can borrow inspiration from tutorial 5 (`05 fa_cartpole_sklearn.py`)."
   ]
  },
  {
   "cell_type": "code",
   "execution_count": 3,
   "metadata": {
    "collapsed": true
   },
   "outputs": [],
   "source": [
    "import numpy as np\n",
    "import gym\n",
    "import matplotlib.pyplot as plt\n",
    "from collections import deque\n",
    "from sklearn.linear_model import SGDRegressor"
   ]
  },
  {
   "cell_type": "code",
   "execution_count": 12,
   "metadata": {
    "collapsed": true
   },
   "outputs": [],
   "source": [
    "class FunctionEstimator:\n",
    "    def __init__(self,env, alpha=0.001):\n",
    "        self.alpha = alpha\n",
    "        self.env = env\n",
    "        self.n_actions = env.action_space.n\n",
    "        self.possible_actions = range(env.action_space.n)\n",
    "        self.initial_state = self.featurize(env.reset())\n",
    "        self.state_dim = len(env.reset())\n",
    "        self.w = np.ones(shape=(self.state_dim, self.n_actions), dtype=float) #parameters of the function approximating Q table\n",
    "    \n",
    "    def featurize(self,state):\n",
    "        \"\"\"\n",
    "        Turn state into feature vector so it can be inputted into the function approximating Q table.\n",
    "        \"\"\"\n",
    "        return state\n",
    "    \n",
    "    def gradient(self, state, action):\n",
    "        \"\"\"\n",
    "        f(state,action) = state*w_action\n",
    "        df(state, action)/dw_action = state\n",
    "        \"\"\"\n",
    "        return state\n",
    "    \n",
    "    def update(self, state, action, td_target):\n",
    "        \"\"\"\n",
    "        Update the parameters by gradient descend.\n",
    "        Move the result of f(state, action) closer to target = minimize MSE.\n",
    "        \"\"\"\n",
    "        state = self.featurize(state) \n",
    "        \n",
    "        target = td_target\n",
    "        prediction = self.predict(state)[action]\n",
    "        error = target - prediction\n",
    "        gradient = self.gradient(state, action)\n",
    "        \n",
    "        self.w[:,action] -= self.alpha * error * (-1 * gradient)\n",
    "        \n",
    "    def predict(self,state):\n",
    "        \"\"\"\n",
    "        Predict Q-values of every action in a given state.\n",
    "        Policy will then select which action to take based on these Q-values.\n",
    "        \"\"\"\n",
    "        state = self.featurize(state)\n",
    "        return np.dot(state, self.w).flatten() # linear function\n",
    "\n",
    "\n",
    "        \n",
    "def make_policy(estimator, epsilon):\n",
    "    \"\"\"\n",
    "    Epsilon greedy policy choosing which action to take.\n",
    "    \"\"\"\n",
    "    def policy_fn(state):\n",
    "        preds = estimator.predict(state)\n",
    "        if np.random.rand()>epsilon:\n",
    "            action = np.argmax(preds)\n",
    "        else:\n",
    "            action = np.random.choice(estimator.possible_actions)\n",
    "        return action\n",
    "    \n",
    "    return policy_fn\n",
    "\n",
    "\n",
    "def run_episodes(n_episodes = 1000, gamma = 1):\n",
    "    env = gym.make('CartPole-v0')\n",
    "\n",
    "    estimator = FunctionEstimator(env)\n",
    "    history = []\n",
    "    last_episode_rewards = deque(maxlen=100)\n",
    "\n",
    "    for ep in range(n_episodes):\n",
    "        state = env.reset()\n",
    "        done = False\n",
    "        policy = make_policy(estimator, 0.99**ep) # reduce epsilon\n",
    "        ep_reward = 0\n",
    "\n",
    "        while not done:\n",
    "            action = policy(state)\n",
    "            new_state, reward, done, _ = env.step(action)\n",
    "            ep_reward += reward\n",
    "\n",
    "            # Keep track of the states    \n",
    "            history.append([state, action, reward, new_state])\n",
    "\n",
    "            # Update the Q-function\n",
    "            td_target = reward\n",
    "            if not done:\n",
    "                td_target = reward + gamma*np.max(estimator.predict(new_state))\n",
    "                \n",
    "            estimator.update(state,action,td_target)\n",
    "            \n",
    "            state = new_state\n",
    "\n",
    "        last_episode_rewards.append(ep_reward)\n",
    "        # Show stats\n",
    "        if (ep) % 100 == 0:\n",
    "            #print('*'*100)\n",
    "            print(\"INFO: Reward at episode {} is {}, best in last 100: {}\".format(ep,ep_reward, np.max(last_episode_rewards)))\n",
    "            \n",
    "    env.close()"
   ]
  },
  {
   "cell_type": "code",
   "execution_count": 14,
   "metadata": {
    "collapsed": false
   },
   "outputs": [
    {
     "name": "stdout",
     "output_type": "stream",
     "text": [
      "\u001b[33mWARN: gym.spaces.Box autodetected dtype as <class 'numpy.float32'>. Please provide explicit dtype.\u001b[0m\n",
      "INFO: Reward at episode 0 is 21.0, best in last 100: 21.0\n",
      "INFO: Reward at episode 100 is 94.0, best in last 100: 167.0\n",
      "INFO: Reward at episode 200 is 86.0, best in last 100: 166.0\n",
      "INFO: Reward at episode 300 is 62.0, best in last 100: 200.0\n",
      "INFO: Reward at episode 400 is 106.0, best in last 100: 184.0\n",
      "INFO: Reward at episode 500 is 97.0, best in last 100: 182.0\n",
      "INFO: Reward at episode 600 is 98.0, best in last 100: 200.0\n",
      "INFO: Reward at episode 700 is 99.0, best in last 100: 200.0\n",
      "INFO: Reward at episode 800 is 56.0, best in last 100: 174.0\n",
      "INFO: Reward at episode 900 is 104.0, best in last 100: 169.0\n",
      "INFO: Reward at episode 1000 is 64.0, best in last 100: 200.0\n",
      "INFO: Reward at episode 1100 is 73.0, best in last 100: 162.0\n",
      "INFO: Reward at episode 1200 is 54.0, best in last 100: 161.0\n",
      "INFO: Reward at episode 1300 is 61.0, best in last 100: 200.0\n",
      "INFO: Reward at episode 1400 is 61.0, best in last 100: 187.0\n",
      "INFO: Reward at episode 1500 is 76.0, best in last 100: 200.0\n",
      "INFO: Reward at episode 1600 is 128.0, best in last 100: 158.0\n",
      "INFO: Reward at episode 1700 is 60.0, best in last 100: 193.0\n",
      "INFO: Reward at episode 1800 is 62.0, best in last 100: 164.0\n",
      "INFO: Reward at episode 1900 is 70.0, best in last 100: 200.0\n"
     ]
    }
   ],
   "source": [
    "run_episodes(n_episodes=2000)"
   ]
  },
  {
   "cell_type": "code",
   "execution_count": null,
   "metadata": {
    "collapsed": false
   },
   "outputs": [],
   "source": []
  },
  {
   "cell_type": "code",
   "execution_count": null,
   "metadata": {
    "collapsed": false
   },
   "outputs": [],
   "source": []
  },
  {
   "cell_type": "code",
   "execution_count": null,
   "metadata": {
    "collapsed": true
   },
   "outputs": [],
   "source": []
  }
 ],
 "metadata": {
  "kernelspec": {
   "display_name": "Python 3",
   "language": "python",
   "name": "python3"
  },
  "language_info": {
   "codemirror_mode": {
    "name": "ipython",
    "version": 3
   },
   "file_extension": ".py",
   "mimetype": "text/x-python",
   "name": "python",
   "nbconvert_exporter": "python",
   "pygments_lexer": "ipython3",
   "version": "3.6.0"
  }
 },
 "nbformat": 4,
 "nbformat_minor": 2
}
