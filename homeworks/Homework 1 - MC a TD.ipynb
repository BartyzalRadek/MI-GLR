{
 "cells": [
  {
   "cell_type": "markdown",
   "metadata": {},
   "source": [
    "# Homework 1: Montecarlo and TD methods\n",
    "\n",
    "Let's implement these methods for a simple toy case with discrete and action spaces.\n",
    "\n",
    "- Implement First-visit Montecarlo for Frozen lake (1p)\n",
    "- Implement Sarsa and Q-Learning for (1p each)\n",
    "- How does the value function V look for the different Q functions you found above? You can look at tutorial 3 for ideas how to do this plot. (1p) \n",
    "\n",
    "The code below can help you get started with TD. For inspiration about Montecarlo, look at tutorial 3.\n"
   ]
  },
  {
   "cell_type": "code",
   "execution_count": 2,
   "metadata": {
    "collapsed": false
   },
   "outputs": [],
   "source": [
    "import numpy as np\n",
    "import gym\n",
    "from tqdm import tqdm\n",
    "import matplotlib.pyplot as plt\n",
    "from collections import defaultdict"
   ]
  },
  {
   "cell_type": "code",
   "execution_count": 3,
   "metadata": {
    "collapsed": true
   },
   "outputs": [],
   "source": [
    "env = gym.make(\"FrozenLake-v0\")"
   ]
  },
  {
   "cell_type": "raw",
   "metadata": {},
   "source": [
    "The agent controls the movement of a character in a grid world. Some tiles of the grid are walkable, and others lead to the agent falling into the water. Additionally, the movement direction of the agent is uncertain and only partially depends on the chosen direction. The agent is rewarded for finding a walkable path to a goal tile.\n",
    "\n",
    "\n",
    "SFFF       (S: starting point, safe)\n",
    "FHFH       (F: frozen surface, safe)\n",
    "FFFH       (H: hole, fall to your doom)\n",
    "HFFG       (G: goal, where the frisbee is located)"
   ]
  },
  {
   "cell_type": "code",
   "execution_count": 3,
   "metadata": {
    "collapsed": false
   },
   "outputs": [
    {
     "name": "stdout",
     "output_type": "stream",
     "text": [
      "Number of states = 16\n",
      "Number of actions = 4\n"
     ]
    }
   ],
   "source": [
    "print(\"Number of states =\", env.observation_space.n)\n",
    "print(\"Number of actions =\", env.action_space.n)"
   ]
  },
  {
   "cell_type": "code",
   "execution_count": 13,
   "metadata": {
    "collapsed": false
   },
   "outputs": [
    {
     "data": {
      "text/plain": [
       "0"
      ]
     },
     "execution_count": 13,
     "metadata": {},
     "output_type": "execute_result"
    }
   ],
   "source": [
    "env.reset()"
   ]
  },
  {
   "cell_type": "code",
   "execution_count": 25,
   "metadata": {
    "collapsed": false
   },
   "outputs": [
    {
     "data": {
      "text/plain": [
       "(5, 0.0, True, {'prob': 0.3333333333333333})"
      ]
     },
     "execution_count": 25,
     "metadata": {},
     "output_type": "execute_result"
    }
   ],
   "source": [
    "env.step(1)"
   ]
  },
  {
   "cell_type": "code",
   "execution_count": 24,
   "metadata": {
    "collapsed": false
   },
   "outputs": [
    {
     "name": "stdout",
     "output_type": "stream",
     "text": [
      "  (Left)\n",
      "SFFF\n",
      "FHFH\n",
      "FFFH\n",
      "HFFG\n"
     ]
    }
   ],
   "source": [
    "env.render()"
   ]
  },
  {
   "cell_type": "code",
   "execution_count": 10,
   "metadata": {
    "collapsed": false
   },
   "outputs": [
    {
     "data": {
      "text/plain": [
       "array([[0, 0, 0, 0],\n",
       "       [1, 0, 0, 0],\n",
       "       [0, 0, 0, 0],\n",
       "       [0, 0, 0, 0]])"
      ]
     },
     "execution_count": 10,
     "metadata": {},
     "output_type": "execute_result"
    }
   ],
   "source": [
    "space = np.zeros(16,dtype=int)\n",
    "space[4] = 1\n",
    "space.reshape(4,4)"
   ]
  },
  {
   "cell_type": "code",
   "execution_count": 44,
   "metadata": {
    "collapsed": true
   },
   "outputs": [],
   "source": [
    "def epsilon_greedy_policy(Q, epsilon, actions):\n",
    "    \"\"\" \n",
    "    Q is a numpy array = qualities of (state, action) pairs, \n",
    "    epsilon = prob to choose random action\n",
    "    1 - eps = prob to choose the action with best Q value = argmax(Q[s][:])\n",
    "    actions = list of actions\n",
    "    \"\"\"\n",
    "    \n",
    "    def policy_fn(state):\n",
    "        if np.random.rand()>epsilon:\n",
    "            if np.max(Q[state][:]) == 0:\n",
    "                action = np.random.choice(actions)  # Specific to Frozen Lake, reward cannot be negative.\n",
    "            else:\n",
    "                action = np.argmax(Q[state][:])\n",
    "        else:\n",
    "            action = np.random.choice(actions)\n",
    "        return action\n",
    "    \n",
    "    return policy_fn\n",
    "\n",
    "def simulate_best():\n",
    "    policy = epsilon_greedy_policy(Q, epsilon=0, actions = actions )\n",
    "    state = env.reset()\n",
    "    t = 0\n",
    "    done = False\n",
    "    space = np.zeros(16,dtype=int)\n",
    "    env.render()\n",
    "    while not done:\n",
    "        t+= 1\n",
    "        action = policy(state)    \n",
    "        state, reward, done, _ =  env.step(action)\n",
    "        if space[state] == 0:\n",
    "            space[state] = 1\n",
    "            #print()\n",
    "            print(space.reshape(4,4))"
   ]
  },
  {
   "cell_type": "markdown",
   "metadata": {},
   "source": [
    "## First-visit Montecarlo"
   ]
  },
  {
   "cell_type": "code",
   "execution_count": 5,
   "metadata": {
    "collapsed": false
   },
   "outputs": [
    {
     "name": "stderr",
     "output_type": "stream",
     "text": [
      "100%|██████████| 10000/10000 [00:04<00:00, 2454.30it/s]\n"
     ]
    }
   ],
   "source": [
    "def run_episode(env, policy): \n",
    "    done = False\n",
    "    state = env.reset()\n",
    "    episode = []\n",
    "    while not done:\n",
    "        action = policy(state)\n",
    "        new_state, reward, done, _ = env.step(action)\n",
    "        episode.append((state,action,reward))\n",
    "        state = new_state    \n",
    "    return episode # returns list of (state,action,reward)\n",
    "\n",
    "n_iter = 10000\n",
    "gamma = 0.99 # discount factor\n",
    "total_episode_rewards = []\n",
    "\n",
    "Q = np.zeros([env.observation_space.n, env.action_space.n]) # Q function\n",
    "R = defaultdict(lambda: np.zeros(env.action_space.n)) # Sum of first-visit rewards of a certain (state, action)\n",
    "N = defaultdict(lambda: np.zeros(env.action_space.n)) # Number of first-visits of a certain (state, action)\n",
    "actions = range(env.action_space.n)\n",
    "\n",
    "for j in tqdm(range(n_iter)):\n",
    "    # Play 100 episodes randomly, then slowly reduce the randomness\n",
    "    policy = epsilon_greedy_policy(Q, epsilon=100./(j+1), actions = actions ) \n",
    "    \n",
    "    episode = run_episode(env, policy) # run till losing\n",
    "    \n",
    "    ep_reward = sum(x[2]*(gamma**i) for i, x in enumerate(episode)) # episode = list of (state,action,reward)\n",
    "    #if ep_reward > 0:\n",
    "    #    print(j, \"reward =\", ep_reward, \"episode=\", episode)\n",
    "    total_episode_rewards.append(ep_reward) # only for logging\n",
    "    \n",
    "    # each move in a episode is converted to a tuple of (state, action) to use as dict key\n",
    "    sa_in_episode = set([(x[0],x[1]) for x in episode]) \n",
    "    \n",
    "    # Find first visit of each (state,action) in the episode\n",
    "    for s,a in sa_in_episode:\n",
    "        first_visit = next(i for i,x in enumerate(episode) if x[0]==s and x[1]==a)\n",
    "        \n",
    "        G = sum(x[2]*(gamma**i) for i, x in enumerate(episode[first_visit:])) # calc reward from this (s,a) till the end of the episode\n",
    "        \n",
    "        R[s][a] += G\n",
    "        N[s][a] += 1\n",
    "        Q[s][a] += R[s][a]/N[s][a] # update Q-function"
   ]
  },
  {
   "cell_type": "code",
   "execution_count": 6,
   "metadata": {
    "collapsed": false
   },
   "outputs": [
    {
     "data": {
      "text/plain": [
       "array([[ 0,  1,  2,  3],\n",
       "       [ 4,  5,  6,  7],\n",
       "       [ 8,  9, 10, 11],\n",
       "       [12, 13, 14, 15]])"
      ]
     },
     "execution_count": 6,
     "metadata": {},
     "output_type": "execute_result"
    }
   ],
   "source": [
    "arr = np.array(range(16))\n",
    "arr.reshape(4,4)"
   ]
  },
  {
   "cell_type": "code",
   "execution_count": 7,
   "metadata": {
    "collapsed": false
   },
   "outputs": [
    {
     "name": "stdout",
     "output_type": "stream",
     "text": [
      "Q =\n",
      " [[9.92691144e+00 7.72904140e+00 4.56032567e+02 1.20862179e+01]\n",
      " [3.32970113e+00 3.06591809e+00 4.12874469e+00 4.61072209e+02]\n",
      " [7.63875210e+00 5.57581310e+00 4.81762113e+02 6.39344088e+00]\n",
      " [4.89134824e+00 1.26690756e+02 1.65302516e-01 4.76723572e+00]\n",
      " [3.71754389e+00 4.94380471e+00 3.67880284e+00 1.58398185e+02]\n",
      " [0.00000000e+00 0.00000000e+00 0.00000000e+00 0.00000000e+00]\n",
      " [5.00109595e+02 7.57460744e+00 3.56861048e+00 8.05798455e-01]\n",
      " [0.00000000e+00 0.00000000e+00 0.00000000e+00 0.00000000e+00]\n",
      " [2.14150077e-01 1.07867812e+01 2.42572022e-01 0.00000000e+00]\n",
      " [5.49324905e-01 3.73061251e+00 2.16455223e+02 3.56454185e-01]\n",
      " [5.31921594e+02 2.79964513e+00 1.83635675e+00 1.99563082e+00]\n",
      " [0.00000000e+00 0.00000000e+00 0.00000000e+00 0.00000000e+00]\n",
      " [0.00000000e+00 0.00000000e+00 0.00000000e+00 0.00000000e+00]\n",
      " [3.87680866e+00 2.43985827e+00 2.50736655e+02 2.26531835e+00]\n",
      " [1.23583534e+01 5.37322124e+02 6.35410731e+00 9.69740934e+00]\n",
      " [0.00000000e+00 0.00000000e+00 0.00000000e+00 0.00000000e+00]]\n",
      "Q argmax =\n",
      " [2 3 2 1 3 0 0 0 1 2 0 0 0 2 1 0]\n"
     ]
    }
   ],
   "source": [
    "print(\"Q =\\n\", Q)\n",
    "print(\"Q argmax =\\n\", np.argmax(Q, axis=1))"
   ]
  },
  {
   "cell_type": "code",
   "execution_count": 28,
   "metadata": {
    "collapsed": false
   },
   "outputs": [
    {
     "data": {
      "image/png": "[encoded data removed]",
      "text/plain": [
       "<Figure size 432x288 with 2 Axes>"
      ]
     },
     "metadata": {},
     "output_type": "display_data"
    }
   ],
   "source": [
    "plt.imshow(np.argmax(Q, axis=1).reshape(4,4), cmap='hot', interpolation='nearest')\n",
    "plt.colorbar()\n",
    "plt.title(\"Best action to take in each state.\")\n",
    "plt.show()"
   ]
  },
  {
   "cell_type": "code",
   "execution_count": 8,
   "metadata": {
    "collapsed": false
   },
   "outputs": [
    {
     "data": {
      "image/png": "[encoded data removed]",
      "text/plain": [
       "<Figure size 432x288 with 2 Axes>"
      ]
     },
     "metadata": {},
     "output_type": "display_data"
    }
   ],
   "source": [
    "plt.imshow(np.max(Q, axis=1).reshape(4,4), cmap='hot', interpolation='nearest')\n",
    "plt.colorbar()\n",
    "plt.title(\"Value of best action in each state.\")\n",
    "plt.show()"
   ]
  },
  {
   "cell_type": "markdown",
   "metadata": {},
   "source": [
    "## Sarsa and Q-learning"
   ]
  },
  {
   "cell_type": "code",
   "execution_count": 40,
   "metadata": {
    "collapsed": false,
    "scrolled": true
   },
   "outputs": [],
   "source": [
    "def sarsa_update(Q, state, action, reward, new_state, new_action):\n",
    "    Q[state, action] = Q[state, action] + alpha*(reward + gamma*Q[new_state, new_action] - Q[state, action])\n",
    "    return Q\n",
    "\n",
    "def Q_learning_update(Q, state, action, reward, new_state, new_action):\n",
    "    Q[state, action] = Q[state, action] + alpha*(reward + gamma*np.max(Q[new_state, :]) - Q[state, action])\n",
    "    return Q\n",
    "\n",
    "actions = range(env.action_space.n)\n",
    "\n",
    "def run_TD(Q_update):\n",
    "    Q = np.zeros([env.observation_space.n, env.action_space.n])\n",
    "    score = [] \n",
    "\n",
    "    gamma = 0.99 # discount factor\n",
    "    alpha = 0.1  # \n",
    "    n_episodes = 20000\n",
    "\n",
    "    for j in range(n_episodes):\n",
    "        done = False\n",
    "        state = env.reset()\n",
    "\n",
    "        # Play randomly 10 episodes, then reduce slowly the randomness\n",
    "        policy = epsilon_greedy_policy(Q, epsilon=10./(j+1), actions = actions ) \n",
    "\n",
    "        ### Generate sample episode\n",
    "        t=0\n",
    "        total_reward = 0\n",
    "        while not done:\n",
    "            t+=1\n",
    "            action = policy(state)    \n",
    "            new_state, reward, done, _ =  env.step(action)\n",
    "            new_action = policy(new_state)\n",
    "            total_reward += reward\n",
    "\n",
    "            #Book-keeping\n",
    "            Q = Q_update(Q, state, action, reward, new_state, new_action)\n",
    "\n",
    "            state, action = new_state, new_action\n",
    "\n",
    "            if done:\n",
    "                score.append(total_reward)\n",
    "\n",
    "                if (j+1)%1000 == 0:\n",
    "                    print(\"INFO: Episode {} finished after {} timesteps with r={}. \\\n",
    "                    Avg score: {}\".format(j+1, t, total_reward, np.mean(score)))\n",
    "    \n",
    "    return Q"
   ]
  },
  {
   "cell_type": "markdown",
   "metadata": {},
   "source": [
    "### Q-learning"
   ]
  },
  {
   "cell_type": "code",
   "execution_count": 41,
   "metadata": {
    "collapsed": false
   },
   "outputs": [
    {
     "name": "stdout",
     "output_type": "stream",
     "text": [
      "INFO: Episode 1000 finished after 4 timesteps with r=0.0.                     Avg score: 0.064\n",
      "INFO: Episode 2000 finished after 11 timesteps with r=0.0.                     Avg score: 0.0775\n",
      "INFO: Episode 3000 finished after 11 timesteps with r=0.0.                     Avg score: 0.13166666666666665\n",
      "INFO: Episode 4000 finished after 20 timesteps with r=0.0.                     Avg score: 0.1595\n",
      "INFO: Episode 5000 finished after 16 timesteps with r=0.0.                     Avg score: 0.1854\n",
      "INFO: Episode 6000 finished after 8 timesteps with r=0.0.                     Avg score: 0.20666666666666667\n",
      "INFO: Episode 7000 finished after 8 timesteps with r=0.0.                     Avg score: 0.22428571428571428\n",
      "INFO: Episode 8000 finished after 8 timesteps with r=0.0.                     Avg score: 0.2345\n",
      "INFO: Episode 9000 finished after 33 timesteps with r=0.0.                     Avg score: 0.2431111111111111\n",
      "INFO: Episode 10000 finished after 86 timesteps with r=0.0.                     Avg score: 0.2472\n",
      "INFO: Episode 11000 finished after 50 timesteps with r=0.0.                     Avg score: 0.253\n",
      "INFO: Episode 12000 finished after 93 timesteps with r=1.0.                     Avg score: 0.25808333333333333\n",
      "INFO: Episode 13000 finished after 14 timesteps with r=1.0.                     Avg score: 0.28423076923076923\n",
      "INFO: Episode 14000 finished after 34 timesteps with r=1.0.                     Avg score: 0.30578571428571427\n",
      "INFO: Episode 15000 finished after 16 timesteps with r=0.0.                     Avg score: 0.3228\n",
      "INFO: Episode 16000 finished after 67 timesteps with r=0.0.                     Avg score: 0.3388125\n",
      "INFO: Episode 17000 finished after 22 timesteps with r=1.0.                     Avg score: 0.35223529411764704\n",
      "INFO: Episode 18000 finished after 79 timesteps with r=1.0.                     Avg score: 0.36494444444444446\n",
      "INFO: Episode 19000 finished after 77 timesteps with r=1.0.                     Avg score: 0.37473684210526315\n",
      "INFO: Episode 20000 finished after 19 timesteps with r=0.0.                     Avg score: 0.3856\n"
     ]
    }
   ],
   "source": [
    "Q = run_TD(Q_learning_update)"
   ]
  },
  {
   "cell_type": "code",
   "execution_count": 42,
   "metadata": {
    "collapsed": false,
    "scrolled": true
   },
   "outputs": [
    {
     "data": {
      "image/png": "[encoded data removed]",
      "text/plain": [
       "<matplotlib.figure.Figure at 0x1f031d3c588>"
      ]
     },
     "metadata": {},
     "output_type": "display_data"
    }
   ],
   "source": [
    "plt.imshow(np.max(Q, axis=1).reshape(4,4), cmap='hot', interpolation='nearest')\n",
    "plt.colorbar()\n",
    "plt.title(\"Value of best action in each state.\")\n",
    "plt.show()"
   ]
  },
  {
   "cell_type": "code",
   "execution_count": 45,
   "metadata": {
    "collapsed": false
   },
   "outputs": [
    {
     "name": "stdout",
     "output_type": "stream",
     "text": [
      "\n",
      "SFFF\n",
      "FHFH\n",
      "FFFH\n",
      "HFFG\n",
      "[[1 0 0 0]\n",
      " [0 0 0 0]\n",
      " [0 0 0 0]\n",
      " [0 0 0 0]]\n",
      "[[1 0 0 0]\n",
      " [1 0 0 0]\n",
      " [0 0 0 0]\n",
      " [0 0 0 0]]\n",
      "[[1 0 0 0]\n",
      " [1 0 0 0]\n",
      " [1 0 0 0]\n",
      " [0 0 0 0]]\n",
      "[[1 0 0 0]\n",
      " [1 0 0 0]\n",
      " [1 1 0 0]\n",
      " [0 0 0 0]]\n",
      "[[1 0 0 0]\n",
      " [1 0 0 0]\n",
      " [1 1 0 0]\n",
      " [0 1 0 0]]\n",
      "[[1 0 0 0]\n",
      " [1 0 0 0]\n",
      " [1 1 0 0]\n",
      " [0 1 1 0]]\n",
      "[[1 0 0 0]\n",
      " [1 0 0 0]\n",
      " [1 1 0 0]\n",
      " [0 1 1 1]]\n"
     ]
    }
   ],
   "source": [
    "simulate_best()"
   ]
  },
  {
   "cell_type": "markdown",
   "metadata": {},
   "source": [
    "### Sarsa"
   ]
  },
  {
   "cell_type": "code",
   "execution_count": 46,
   "metadata": {
    "collapsed": false
   },
   "outputs": [
    {
     "name": "stdout",
     "output_type": "stream",
     "text": [
      "INFO: Episode 1000 finished after 8 timesteps with r=0.0.                     Avg score: 0.023\n",
      "INFO: Episode 2000 finished after 7 timesteps with r=0.0.                     Avg score: 0.026\n",
      "INFO: Episode 3000 finished after 3 timesteps with r=0.0.                     Avg score: 0.042666666666666665\n",
      "INFO: Episode 4000 finished after 13 timesteps with r=1.0.                     Avg score: 0.06375\n",
      "INFO: Episode 5000 finished after 22 timesteps with r=0.0.                     Avg score: 0.1058\n",
      "INFO: Episode 6000 finished after 32 timesteps with r=0.0.                     Avg score: 0.142\n",
      "INFO: Episode 7000 finished after 15 timesteps with r=1.0.                     Avg score: 0.1692857142857143\n",
      "INFO: Episode 8000 finished after 11 timesteps with r=0.0.                     Avg score: 0.197\n",
      "INFO: Episode 9000 finished after 16 timesteps with r=0.0.                     Avg score: 0.22011111111111112\n",
      "INFO: Episode 10000 finished after 34 timesteps with r=0.0.                     Avg score: 0.2371\n",
      "INFO: Episode 11000 finished after 11 timesteps with r=1.0.                     Avg score: 0.25281818181818183\n",
      "INFO: Episode 12000 finished after 27 timesteps with r=0.0.                     Avg score: 0.2638333333333333\n",
      "INFO: Episode 13000 finished after 33 timesteps with r=0.0.                     Avg score: 0.27407692307692305\n",
      "INFO: Episode 14000 finished after 17 timesteps with r=0.0.                     Avg score: 0.2815714285714286\n",
      "INFO: Episode 15000 finished after 53 timesteps with r=1.0.                     Avg score: 0.301\n",
      "INFO: Episode 16000 finished after 40 timesteps with r=0.0.                     Avg score: 0.3189375\n",
      "INFO: Episode 17000 finished after 33 timesteps with r=1.0.                     Avg score: 0.336\n",
      "INFO: Episode 18000 finished after 19 timesteps with r=0.0.                     Avg score: 0.3502222222222222\n",
      "INFO: Episode 19000 finished after 70 timesteps with r=1.0.                     Avg score: 0.36478947368421055\n",
      "INFO: Episode 20000 finished after 100 timesteps with r=0.0.                     Avg score: 0.37755\n"
     ]
    }
   ],
   "source": [
    "Q = run_TD(sarsa_update)"
   ]
  },
  {
   "cell_type": "code",
   "execution_count": 47,
   "metadata": {
    "collapsed": false
   },
   "outputs": [
    {
     "data": {
      "image/png": "[encoded data removed]",
      "text/plain": [
       "<matplotlib.figure.Figure at 0x1f031e34470>"
      ]
     },
     "metadata": {},
     "output_type": "display_data"
    }
   ],
   "source": [
    "plt.imshow(np.max(Q, axis=1).reshape(4,4), cmap='hot', interpolation='nearest')\n",
    "plt.colorbar()\n",
    "plt.title(\"Value of best action in each state.\")\n",
    "plt.show()"
   ]
  },
  {
   "cell_type": "code",
   "execution_count": 48,
   "metadata": {
    "collapsed": false
   },
   "outputs": [
    {
     "name": "stdout",
     "output_type": "stream",
     "text": [
      "\n",
      "SFFF\n",
      "FHFH\n",
      "FFFH\n",
      "HFFG\n",
      "[[1 0 0 0]\n",
      " [0 0 0 0]\n",
      " [0 0 0 0]\n",
      " [0 0 0 0]]\n",
      "[[1 0 0 0]\n",
      " [1 0 0 0]\n",
      " [0 0 0 0]\n",
      " [0 0 0 0]]\n",
      "[[1 0 0 0]\n",
      " [1 0 0 0]\n",
      " [1 0 0 0]\n",
      " [0 0 0 0]]\n",
      "[[1 0 0 0]\n",
      " [1 0 0 0]\n",
      " [1 1 0 0]\n",
      " [0 0 0 0]]\n",
      "[[1 0 0 0]\n",
      " [1 0 0 0]\n",
      " [1 1 0 0]\n",
      " [0 1 0 0]]\n",
      "[[1 0 0 0]\n",
      " [1 0 0 0]\n",
      " [1 1 0 0]\n",
      " [0 1 1 0]]\n",
      "[[1 0 0 0]\n",
      " [1 0 0 0]\n",
      " [1 1 1 0]\n",
      " [0 1 1 0]]\n",
      "[[1 0 0 0]\n",
      " [1 0 1 0]\n",
      " [1 1 1 0]\n",
      " [0 1 1 0]]\n",
      "[[1 0 0 0]\n",
      " [1 0 1 0]\n",
      " [1 1 1 0]\n",
      " [0 1 1 1]]\n"
     ]
    }
   ],
   "source": [
    "simulate_best()"
   ]
  },
  {
   "cell_type": "code",
   "execution_count": null,
   "metadata": {
    "collapsed": true
   },
   "outputs": [],
   "source": [
    "env.close()"
   ]
  }
 ],
 "metadata": {
  "kernelspec": {
   "display_name": "Python 3",
   "language": "python",
   "name": "python3"
  },
  "language_info": {
   "codemirror_mode": {
    "name": "ipython",
    "version": 3
   },
   "file_extension": ".py",
   "mimetype": "text/x-python",
   "name": "python",
   "nbconvert_exporter": "python",
   "pygments_lexer": "ipython3",
   "version": "3.6.0"
  }
 },
 "nbformat": 4,
 "nbformat_minor": 2
}
