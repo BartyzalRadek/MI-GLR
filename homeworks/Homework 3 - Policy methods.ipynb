{
 "cells": [
  {
   "cell_type": "markdown",
   "metadata": {},
   "source": [
    "# Homework 3: Policy methods"
   ]
  },
  {
   "cell_type": "markdown",
   "metadata": {},
   "source": [
    "**Your task**\n",
    "\n",
    "- Compare the performance of REINFORCE and REINFORCE with baseline for `CliffWalking`. You can use some of the code of tutorial 6 as inspiration. (4p)."
   ]
  },
  {
   "cell_type": "markdown",
   "metadata": {},
   "source": [
    "**First things first:** Spend some time getting familiar with the environment.\n",
    "\n",
    "    The board is a 4x12 matrix, indexed as 1D array:\n",
    "        0 = top leftt\n",
    "        11 = top right\n",
    "        12 = beginning of 2nd row from top at left side\n",
    "        ...\n",
    "    Each time step incurs -1 reward, and stepping into the cliff incurs -100 reward \n",
    "    and a reset to the start. An episode terminates when the agent reaches the goal.\n",
    "    \n",
    "    env.step(action) = (new_state, reward_of_this_state, done, probability)"
   ]
  },
  {
   "cell_type": "code",
   "execution_count": 1,
   "metadata": {
    "collapsed": true
   },
   "outputs": [],
   "source": [
    "%matplotlib inline\n",
    "import numpy as np\n",
    "import gym\n",
    "import matplotlib.pyplot as plt\n",
    "from collections import deque"
   ]
  },
  {
   "cell_type": "code",
   "execution_count": 6,
   "metadata": {
    "collapsed": false
   },
   "outputs": [
    {
     "name": "stdout",
     "output_type": "stream",
     "text": [
      "Number of states:  48\n",
      "Number of actions:  4\n",
      "Result of env.step(0):  (24, -1, False, {'prob': 1.0})\n",
      "o  o  o  o  o  o  o  o  o  o  o  o\n",
      "o  o  o  o  o  o  o  o  o  o  o  o\n",
      "x  o  o  o  o  o  o  o  o  o  o  o\n",
      "o  C  C  C  C  C  C  C  C  C  C  T\n",
      "\n"
     ]
    }
   ],
   "source": [
    "env = gym.make(\"CliffWalking-v0\")\n",
    "print(\"Number of states: \", env.observation_space.n)\n",
    "print(\"Number of actions: \", env.action_space.n)\n",
    "print(\"Result of env.step(0): \", env.step(0))\n",
    "env.render()\n",
    "env.close()"
   ]
  },
  {
   "cell_type": "code",
   "execution_count": 2,
   "metadata": {
    "collapsed": true
   },
   "outputs": [],
   "source": [
    "def plot_rewards(avg_rewards, title):\n",
    "    plt.plot(np.array(range(len(avg_rewards)))*100, avg_rewards)\n",
    "    plt.ylabel('average reward in 100 episodes')\n",
    "    #plt.ylim(0.2, 1)\n",
    "    plt.xlabel('episode')\n",
    "    plt.title(title)"
   ]
  },
  {
   "cell_type": "code",
   "execution_count": 107,
   "metadata": {
    "collapsed": false
   },
   "outputs": [],
   "source": [
    "def softmax(x):\n",
    "    max_x = np.max(x)\n",
    "    return np.exp(x - max_x) / np.sum(np.exp(x - max_x), axis=0)\n",
    "\n",
    "class Policy:\n",
    "    def __init__(self,env, alpha=1e-6, gamma=1, debug=True):\n",
    "        self.alpha = alpha\n",
    "        self.gamma = gamma\n",
    "        self.debug = debug\n",
    "        self.env = env\n",
    "        \n",
    "        self.n_actions = env.action_space.n\n",
    "        self.n_states = env.observation_space.n\n",
    "        \n",
    "        self.possible_actions = range(env.action_space.n)\n",
    "        self.state_dim = self.featurize(env.reset()).shape[0]\n",
    "        \n",
    "        self.w = np.ones(shape=(self.state_dim, self.n_actions), dtype=float) #parameters of the function approximating probabilities of actions\n",
    "        \n",
    "        self.last_action_probabilities = np.ones(shape=(self.n_actions,), dtype=float) / self.n_actions\n",
    "        self.last_action_probabilities = np.tile(self.last_action_probabilities,(self.n_states,1))\n",
    "    \n",
    "    def featurize(self,state):\n",
    "        \"\"\"\n",
    "        Turn state + action into feature vector so it can be inputted into the policy function.\n",
    "        \"\"\"\n",
    "        s = np.zeros(shape=(self.n_states,), dtype=float)\n",
    "        s[state] = 1\n",
    "        return s\n",
    "    \n",
    "    def get_action_probabilities(self, state):\n",
    "        h = self.featurize(state).dot(self.w).flatten()\n",
    "        soft = softmax(h)\n",
    "        if self.debug:\n",
    "            print(\"state: {} h: {}\".format(state, h))\n",
    "            print(\"action_probabilities: \", soft)\n",
    "        return soft\n",
    "    \n",
    "    def gradient(self, state, action):\n",
    "        \"\"\"\n",
    "        See Exercise 13.3 in Barton, Sutton book.\n",
    "        \"\"\"\n",
    "        x_s = self.featurize(state)\n",
    "        action_probability = self.get_action_probabilities(state)[action]\n",
    "        \n",
    "        if self.debug:\n",
    "            print(\"x_s=\\n\", x_s)\n",
    "            print(\"action_probability=\\n\", action_probability)\n",
    "            \n",
    "        return x_s - action_probability * x_s\n",
    "    \n",
    "    def update(self, episode, max_steps=200):\n",
    "        \"\"\"\n",
    "        Update the parameters by gradient descend.\n",
    "        \n",
    "        episode = list of [state, action, reward] over the whole episode\n",
    "        \"\"\"\n",
    "        episode = np.array(episode)\n",
    "        \n",
    "        G = []\n",
    "        for [state, action, reward] in episode[::-1]: # calculate cumulative rewwards till the end from each step\n",
    "            if len(G) == 0:\n",
    "                G.append(reward)\n",
    "            else:\n",
    "                G.append(reward + G[-1])\n",
    "        G = G[::-1]\n",
    "        \n",
    "        if self.debug:\n",
    "            print(\"Episode shape={} whole:\\n{}\".format(episode.shape, episode))\n",
    "            print(\"G: \", G)\n",
    "\n",
    "        # Update parameters after each step - BUT choose only N random steps otherwise it will run forever.\n",
    "        if len(episode) <= max_steps:\n",
    "            chosen_steps = episode\n",
    "        else:\n",
    "            chosen_step_indxs = np.random.choice(len(episode), max_steps)\n",
    "            chosen_steps = episode[chosen_step_indxs]\n",
    "        \n",
    "        for t,[state, action, reward] in enumerate(chosen_steps):\n",
    "            gradient = self.gradient(state, action)\n",
    "            self.w[:,action] += self.alpha * (np.power(self.gamma,t)) * G[t] * gradient \n",
    "            if self.debug:\n",
    "                print(\"  t={}  Gradient={}  G[t]={} new_w={}\".format(t, gradient, G[t], self.w))\n",
    "            \n",
    "        \n",
    "        for state in range(self.n_states):\n",
    "            self.last_action_probabilities[state] = self.get_action_probabilities(state)\n",
    "        \n",
    "    def choose_action(self,state):\n",
    "        \"\"\"\n",
    "        Calculate numerical prefferences of every action in a given state = h(s,a,w)\n",
    "        Policy will then calculate action probabilities and sample an action according to them.\n",
    "        \"\"\"\n",
    "        action_probabilities = self.last_action_probabilities[state] # policy is not updated while playing\n",
    "        return np.random.choice(self.possible_actions, 1, p=action_probabilities)[0]\n",
    "\n",
    "    \n",
    "def run_episodes(n_episodes = 1000, gamma = 1,alpha=1e-6, max_update_steps=200, debug=True):\n",
    "    env = gym.make('CliffWalking-v0')\n",
    "\n",
    "    policy = Policy(env,alpha=alpha, gamma=gamma, debug=debug)\n",
    "    episode_rewards = []\n",
    "    avg_episode_rewards = []\n",
    "\n",
    "    for ep in range(n_episodes):\n",
    "        state = env.reset()\n",
    "        done = False\n",
    "        ep_reward = 0\n",
    "        step = 0\n",
    "        last_fail_step = -1\n",
    "        episode = []\n",
    "\n",
    "        while not done:\n",
    "            action = policy.choose_action(state)\n",
    "            new_state, reward, done, _ = env.step(action)\n",
    "            #print(\"State: {} Action: {} Reward: {}\".format(state, action, reward))\n",
    "            ep_reward += reward\n",
    "\n",
    "            # Keep track of the states    \n",
    "            episode.append([state, action, reward])\n",
    "            \n",
    "            state = new_state\n",
    "            \n",
    "            if debug:\n",
    "                if reward < -1:\n",
    "                    break\n",
    "                    \n",
    "            if reward == -100:\n",
    "                if last_fail_step == -1:\n",
    "                    last_fail_step = step\n",
    "                else:\n",
    "                    episode = episode[last_fail_step:]\n",
    "                \n",
    "            step += 1\n",
    "        \n",
    "        # Update policy\n",
    "        policy.update(episode, max_steps=max_update_steps)\n",
    "        #print(\"done\")\n",
    "\n",
    "        episode_rewards.append(ep_reward)\n",
    "        # Show stats\n",
    "        mod = 10\n",
    "        if (ep) % mod == 0:\n",
    "            avg_episode_rewards.append(np.average(episode_rewards[-mod:]))\n",
    "            print(\"Reward at episode {} is {} | avg in last {}: {}\"\n",
    "                  .format(ep,ep_reward,mod, avg_episode_rewards[-1]))\n",
    "            \n",
    "    env.close()\n",
    "    return episode_rewards, avg_episode_rewards"
   ]
  },
  {
   "cell_type": "code",
   "execution_count": 109,
   "metadata": {
    "collapsed": false
   },
   "outputs": [
    {
     "name": "stdout",
     "output_type": "stream",
     "text": [
      "Reward at episode 0 is -46066 | avg in last 10: -46066.0\n",
      "Reward at episode 10 is -51629 | avg in last 10: -73577.2\n",
      "Reward at episode 20 is -13417 | avg in last 10: -65922.6\n",
      "Reward at episode 30 is -11502 | avg in last 10: -66893.7\n",
      "Reward at episode 40 is -373301 | avg in last 10: -107817.9\n",
      "Reward at episode 50 is -166140 | avg in last 10: -85611.1\n",
      "Reward at episode 60 is -90417 | avg in last 10: -77102.0\n"
     ]
    },
    {
     "ename": "KeyboardInterrupt",
     "evalue": "",
     "output_type": "error",
     "traceback": [
      "\u001b[0;31m---------------------------------------------------------------------------\u001b[0m",
      "\u001b[0;31mKeyboardInterrupt\u001b[0m                         Traceback (most recent call last)",
      "\u001b[0;32m<ipython-input-109-3dcf87398d94>\u001b[0m in \u001b[0;36m<module>\u001b[0;34m()\u001b[0m\n\u001b[0;32m----> 1\u001b[0;31m \u001b[0mepisode_rewards\u001b[0m\u001b[1;33m,\u001b[0m \u001b[0mavg_episode_rewards\u001b[0m \u001b[1;33m=\u001b[0m \u001b[0mrun_episodes\u001b[0m\u001b[1;33m(\u001b[0m\u001b[0mn_episodes\u001b[0m \u001b[1;33m=\u001b[0m \u001b[1;36m1000\u001b[0m\u001b[1;33m,\u001b[0m\u001b[0malpha\u001b[0m\u001b[1;33m=\u001b[0m\u001b[1;36m1e-10\u001b[0m\u001b[1;33m,\u001b[0m \u001b[0mgamma\u001b[0m \u001b[1;33m=\u001b[0m \u001b[1;36m1\u001b[0m\u001b[1;33m,\u001b[0m \u001b[0mmax_update_steps\u001b[0m\u001b[1;33m=\u001b[0m\u001b[1;36m2000\u001b[0m\u001b[1;33m,\u001b[0m \u001b[0mdebug\u001b[0m\u001b[1;33m=\u001b[0m\u001b[1;32mFalse\u001b[0m\u001b[1;33m)\u001b[0m\u001b[1;33m\u001b[0m\u001b[0m\n\u001b[0m",
      "\u001b[0;32m<ipython-input-107-2b8b3694f162>\u001b[0m in \u001b[0;36mrun_episodes\u001b[0;34m(n_episodes, gamma, alpha, max_update_steps, debug)\u001b[0m\n\u001b[1;32m    112\u001b[0m \u001b[1;33m\u001b[0m\u001b[0m\n\u001b[1;32m    113\u001b[0m         \u001b[1;32mwhile\u001b[0m \u001b[1;32mnot\u001b[0m \u001b[0mdone\u001b[0m\u001b[1;33m:\u001b[0m\u001b[1;33m\u001b[0m\u001b[0m\n\u001b[0;32m--> 114\u001b[0;31m             \u001b[0maction\u001b[0m \u001b[1;33m=\u001b[0m \u001b[0mpolicy\u001b[0m\u001b[1;33m.\u001b[0m\u001b[0mchoose_action\u001b[0m\u001b[1;33m(\u001b[0m\u001b[0mstate\u001b[0m\u001b[1;33m)\u001b[0m\u001b[1;33m\u001b[0m\u001b[0m\n\u001b[0m\u001b[1;32m    115\u001b[0m             \u001b[0mnew_state\u001b[0m\u001b[1;33m,\u001b[0m \u001b[0mreward\u001b[0m\u001b[1;33m,\u001b[0m \u001b[0mdone\u001b[0m\u001b[1;33m,\u001b[0m \u001b[0m_\u001b[0m \u001b[1;33m=\u001b[0m \u001b[0menv\u001b[0m\u001b[1;33m.\u001b[0m\u001b[0mstep\u001b[0m\u001b[1;33m(\u001b[0m\u001b[0maction\u001b[0m\u001b[1;33m)\u001b[0m\u001b[1;33m\u001b[0m\u001b[0m\n\u001b[1;32m    116\u001b[0m             \u001b[1;31m#print(\"State: {} Action: {} Reward: {}\".format(state, action, reward))\u001b[0m\u001b[1;33m\u001b[0m\u001b[1;33m\u001b[0m\u001b[0m\n",
      "\u001b[0;32m<ipython-input-107-2b8b3694f162>\u001b[0m in \u001b[0;36mchoose_action\u001b[0;34m(self, state)\u001b[0m\n\u001b[1;32m     93\u001b[0m         \"\"\"\n\u001b[1;32m     94\u001b[0m         \u001b[0maction_probabilities\u001b[0m \u001b[1;33m=\u001b[0m \u001b[0mself\u001b[0m\u001b[1;33m.\u001b[0m\u001b[0mlast_action_probabilities\u001b[0m\u001b[1;33m[\u001b[0m\u001b[0mstate\u001b[0m\u001b[1;33m]\u001b[0m \u001b[1;31m# policy is not updated while playing\u001b[0m\u001b[1;33m\u001b[0m\u001b[0m\n\u001b[0;32m---> 95\u001b[0;31m         \u001b[1;32mreturn\u001b[0m \u001b[0mnp\u001b[0m\u001b[1;33m.\u001b[0m\u001b[0mrandom\u001b[0m\u001b[1;33m.\u001b[0m\u001b[0mchoice\u001b[0m\u001b[1;33m(\u001b[0m\u001b[0mself\u001b[0m\u001b[1;33m.\u001b[0m\u001b[0mpossible_actions\u001b[0m\u001b[1;33m,\u001b[0m \u001b[1;36m1\u001b[0m\u001b[1;33m,\u001b[0m \u001b[0mp\u001b[0m\u001b[1;33m=\u001b[0m\u001b[0maction_probabilities\u001b[0m\u001b[1;33m)\u001b[0m\u001b[1;33m[\u001b[0m\u001b[1;36m0\u001b[0m\u001b[1;33m]\u001b[0m\u001b[1;33m\u001b[0m\u001b[0m\n\u001b[0m\u001b[1;32m     96\u001b[0m \u001b[1;33m\u001b[0m\u001b[0m\n\u001b[1;32m     97\u001b[0m \u001b[1;33m\u001b[0m\u001b[0m\n",
      "\u001b[0;31mKeyboardInterrupt\u001b[0m: "
     ]
    }
   ],
   "source": [
    "episode_rewards, avg_episode_rewards = run_episodes(n_episodes = 1000,alpha=1e-10, gamma = 1, max_update_steps=2000, debug=False)"
   ]
  },
  {
   "cell_type": "code",
   "execution_count": 104,
   "metadata": {
    "collapsed": false
   },
   "outputs": [
    {
     "data": {
      "image/png": "[encoded data removed]",
      "text/plain": [
       "<matplotlib.figure.Figure at 0x238db707978>"
      ]
     },
     "metadata": {},
     "output_type": "display_data"
    }
   ],
   "source": [
    "plot_rewards(avg_episode_rewards, \"\")"
   ]
  },
  {
   "cell_type": "code",
   "execution_count": 43,
   "metadata": {
    "collapsed": false
   },
   "outputs": [
    {
     "data": {
      "text/plain": [
       "9"
      ]
     },
     "execution_count": 43,
     "metadata": {},
     "output_type": "execute_result"
    }
   ],
   "source": [
    "np.power(3,2)"
   ]
  },
  {
   "cell_type": "code",
   "execution_count": 85,
   "metadata": {
    "collapsed": false
   },
   "outputs": [
    {
     "data": {
      "text/plain": [
       "array([[ 0.,  0.,  0.],\n",
       "       [ 0.,  0.,  0.],\n",
       "       [ 1.,  1.,  1.]])"
      ]
     },
     "execution_count": 85,
     "metadata": {},
     "output_type": "execute_result"
    }
   ],
   "source": [
    "x = np.zeros(shape=(2,3))\n",
    "y = np.ones(shape=(2,3))\n",
    "x[1,2] = 1\n",
    "x.T.dot(y)"
   ]
  },
  {
   "cell_type": "code",
   "execution_count": null,
   "metadata": {
    "collapsed": true
   },
   "outputs": [],
   "source": []
  }
 ],
 "metadata": {
  "kernelspec": {
   "display_name": "Python 3",
   "language": "python",
   "name": "python3"
  },
  "language_info": {
   "codemirror_mode": {
    "name": "ipython",
    "version": 3
   },
   "file_extension": ".py",
   "mimetype": "text/x-python",
   "name": "python",
   "nbconvert_exporter": "python",
   "pygments_lexer": "ipython3",
   "version": "3.6.0"
  }
 },
 "nbformat": 4,
 "nbformat_minor": 2
}
