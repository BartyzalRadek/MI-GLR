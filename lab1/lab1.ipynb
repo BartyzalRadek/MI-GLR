{
 "cells": [
  {
   "cell_type": "code",
   "execution_count": 1,
   "metadata": {},
   "outputs": [],
   "source": [
    "import gym\n",
    "import numpy as np"
   ]
  },
  {
   "cell_type": "code",
   "execution_count": 12,
   "metadata": {},
   "outputs": [
    {
     "name": "stdout",
     "output_type": "stream",
     "text": [
      "\u001b[33mWARN: gym.spaces.Box autodetected dtype as <class 'numpy.float32'>. Please provide explicit dtype.\u001b[0m\n"
     ]
    }
   ],
   "source": [
    "env = gym.make('CartPole-v0')\n",
    "n_actions = env.action_space.n\n",
    "theta = np.random.rand(4) # state has 4 dimensions = (car position, car speed, pole angle, angular speed)\n",
    "\n",
    "\n",
    "\n",
    "def run_episode(theta):\n",
    "    state = env.reset()\n",
    "    ep_reward = 0\n",
    "    done = False\n",
    "    while not done:\n",
    "        #env.render()\n",
    "        action = 0 if np.dot(theta, state) >= 0 else 1\n",
    "        state, reward, done, _ = env.step(action)\n",
    "        ep_reward += reward\n",
    "        #print(\"Reward received = \", reward)\n",
    "        #print(\"New state =\", new_state)\n",
    "    #print(\"Episode reward = \", ep_reward)\n",
    "    return ep_reward\n",
    "\n",
    "def run_episodes(theta, no_episodes):\n",
    "    total_reward = 0\n",
    "    for _ in range(no_episodes):\n",
    "        total_reward += run_episode(theta)\n",
    "    \n",
    "    #print(\"Total reward/no_episodes =\", total_reward/no_episodes)\n",
    "    #print(\"Used theta =\", theta)\n",
    "    return total_reward/no_episodes\n",
    "    \n",
    "\n",
    "#run_episodes(theta, 10)\n"
   ]
  },
  {
   "cell_type": "code",
   "execution_count": 18,
   "metadata": {},
   "outputs": [
    {
     "name": "stdout",
     "output_type": "stream",
     "text": [
      "NEW BEST: 9.17\n",
      "Iteration: 0\n",
      "NEW BEST: 15.51\n",
      "NEW BEST: 36.06\n",
      "NEW BEST: 36.13\n",
      "NEW BEST: 40.05\n",
      "Iteration: 500\n",
      "Iteration: 1000\n",
      "NEW BEST: 41.92\n",
      "Iteration: 1500\n",
      "Iteration: 2000\n",
      "NEW BEST: 43.76\n",
      "Iteration: 2500\n",
      "Iteration: 3000\n",
      "Iteration: 3500\n",
      "Iteration: 4000\n",
      "Iteration: 4500\n",
      "Final score: 43.76\n",
      "Final best theta: [0.46916081 0.75581417 0.01339761 0.01647032]\n"
     ]
    }
   ],
   "source": [
    "#Random search\n",
    "theta_best = np.random.rand(4)\n",
    "score_best = 0\n",
    "for it in range(5000):\n",
    "    #candidate solution\n",
    "    theta = np.random.rand(4)\n",
    "    score = run_episodes(theta, 100)\n",
    "    if score > score_best:\n",
    "        score_best = score\n",
    "        theta_best = theta\n",
    "        print(\"NEW BEST:\", score)\n",
    "    if it % 500==0: print(\"Iteration:\", it)\n",
    "\n",
    "print(\"Final score:\", score_best)\n",
    "print(\"Final best theta:\", theta_best)\n",
    "        "
   ]
  },
  {
   "cell_type": "code",
   "execution_count": null,
   "metadata": {},
   "outputs": [],
   "source": []
  }
 ],
 "metadata": {
  "kernelspec": {
   "display_name": "Python 3",
   "language": "python",
   "name": "python3"
  },
  "language_info": {
   "codemirror_mode": {
    "name": "ipython",
    "version": 3
   },
   "file_extension": ".py",
   "mimetype": "text/x-python",
   "name": "python",
   "nbconvert_exporter": "python",
   "pygments_lexer": "ipython3",
   "version": "3.6.4"
  }
 },
 "nbformat": 4,
 "nbformat_minor": 2
}
