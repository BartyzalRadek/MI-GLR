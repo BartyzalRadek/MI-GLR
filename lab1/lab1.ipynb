{
 "cells": [
  {
   "cell_type": "code",
   "execution_count": 1,
   "metadata": {
    "collapsed": true
   },
   "outputs": [],
   "source": [
    "import gym\n",
    "import numpy as np"
   ]
  },
  {
   "cell_type": "code",
   "execution_count": 2,
   "metadata": {},
   "outputs": [
    {
     "name": "stdout",
     "output_type": "stream",
     "text": [
      "\u001b[33mWARN: gym.spaces.Box autodetected dtype as <class 'numpy.float32'>. Please provide explicit dtype.\u001b[0m\n"
     ]
    }
   ],
   "source": [
    "env = gym.make('CartPole-v0')\n",
    "n_actions = env.action_space.n\n",
    "theta = np.random.rand(4) # state has 4 dimensions = (car position, car speed, pole angle, angular speed)\n",
    "\n",
    "def run_episode(theta):\n",
    "    state = env.reset()\n",
    "    ep_reward = 0\n",
    "    done = False\n",
    "    while not done:\n",
    "        #env.render()\n",
    "        action = 0 if np.dot(theta, state) >= 0 else 1\n",
    "        state, reward, done, _ = env.step(action)\n",
    "        ep_reward += reward\n",
    "        #print(\"Reward received = \", reward)\n",
    "        #print(\"New state =\", new_state)\n",
    "    #print(\"Episode reward = \", ep_reward)\n",
    "    return ep_reward\n",
    "\n",
    "def run_episodes(theta, no_episodes=100):\n",
    "    total_reward = 0\n",
    "    for _ in range(no_episodes):\n",
    "        total_reward += run_episode(theta)\n",
    "    \n",
    "    #print(\"Total reward/no_episodes =\", total_reward/no_episodes)\n",
    "    #print(\"Used theta =\", theta)\n",
    "    return total_reward/no_episodes\n",
    "    \n",
    "\n",
    "#run_episodes(theta, 10)\n"
   ]
  },
  {
   "cell_type": "code",
   "execution_count": 3,
   "metadata": {
    "collapsed": true
   },
   "outputs": [
    {
     "name": "stdout",
     "output_type": "stream",
     "text": [
      "NEW BEST: 9.24\n",
      "Iteration: 0\n",
      "NEW BEST: 9.76\n",
      "NEW BEST: 31.39\n",
      "NEW BEST: 31.55\n",
      "NEW BEST: 31.95\n",
      "NEW BEST: 34.91\n",
      "NEW BEST: 37.81\n",
      "Iteration: 200\n",
      "NEW BEST: 38.99\n",
      "NEW BEST: 42.09\n",
      "Iteration: 400\n",
      "Iteration: 600\n",
      "Iteration: 800\n",
      "Final score: 42.09\n",
      "Final best theta: [0.03997316 0.68318706 0.00630608 0.00586531]\n"
     ]
    }
   ],
   "source": [
    "#Random search\n",
    "theta_best = np.random.rand(4)\n",
    "score_best = 0\n",
    "for it in range(1000):\n",
    "    #candidate solution\n",
    "    theta = np.random.rand(4)\n",
    "    score = run_episodes(theta, 100) # = fitness\n",
    "    if score > score_best:\n",
    "        score_best = score\n",
    "        theta_best = theta\n",
    "        print(\"NEW BEST:\", score)\n",
    "    if it % 200==0: print(\"Iteration:\", it)\n",
    "\n",
    "print(\"Final score:\", score_best)\n",
    "print(\"Final best theta:\", theta_best)\n",
    "        "
   ]
  },
  {
   "cell_type": "code",
   "execution_count": 42,
   "metadata": {
    "collapsed": true
   },
   "outputs": [],
   "source": [
    "def init_candidates(n):\n",
    "    cands = []\n",
    "    for _ in range(n):\n",
    "        cands.append(np.random.rand(4))\n",
    "    return np.array(cands)\n",
    "\n",
    "def evaluate_and_sort(cands):\n",
    "    cands_and_scores = []\n",
    "    for cand in cands:\n",
    "        cands_and_scores.append(np.array([cand,run_episodes(cand)]))\n",
    "        \n",
    "    cands_and_scores = np.array(cands_and_scores)\n",
    "    sorted_cands_and_scores = sorted(cands_and_scores,key=lambda x: x[1])[::-1] # sort according to 2nd column and then reverse the array\n",
    "    return np.array(sorted_cands_and_scores)\n",
    "\n",
    "def get_top_cands(sorted_cands_and_scores, selection_rate):\n",
    "    #print(\"Sorted cands and scores:\\n\", sorted_cands_and_scores)\n",
    "    n = (int)(selection_rate * len(sorted_cands_and_scores))\n",
    "    top_cands = np.copy(sorted_cands_and_scores[0:n,0])\n",
    "    size = (n,len(top_cands[0]))\n",
    "    #print(\"Wanted size =\", size)\n",
    "    #print(\"Top cands:\\n\", top_cands)\n",
    "    top_cands = np.concatenate(top_cands)\n",
    "    top_cands = np.reshape(top_cands, size)\n",
    "    #print(\"Top cands after reshape:\\n\", top_cands)\n",
    "    return top_cands\n",
    "\n",
    "def crossover(cand1, cand2):\n",
    "    \"\"\"\n",
    "    50% chance to take gene from one of the parents, probability per gene.\n",
    "    \"\"\"\n",
    "    child = np.copy(cand1)\n",
    "    choices = np.random.randint(2, size=len(cand1))\n",
    "    #print(\"choices=\",choices)\n",
    "    child *= choices\n",
    "    choices*=2\n",
    "    choices[choices==0] = 1\n",
    "    choices[choices==2] = 0\n",
    "    child += cand2*choices\n",
    "    return child\n",
    "\n",
    "def get_child(top_cands):\n",
    "    \"\"\"\n",
    "    Parents selected randomly from top selection_rate*pop_size candidates.\n",
    "    \"\"\"\n",
    "    parent_ids = np.random.randint(len(top_cands), size=2)\n",
    "    parent1 = top_cands[parent_ids[0]]\n",
    "    parent2 = top_cands[parent_ids[1]]\n",
    "    return crossover(parent1, parent2)\n",
    "\n",
    "def refill_population(top_cands, pop_size):\n",
    "    \"\"\"\n",
    "    Refills population of top candidates with their children.\n",
    "    \"\"\"\n",
    "    no_children = pop_size - len(top_cands)\n",
    "    children = []\n",
    "    for _ in range(no_children):\n",
    "        children.append(get_child(top_cands))\n",
    "\n",
    "    children = np.array(children)\n",
    "    #print(\"Top=\", top_cands)\n",
    "    #print(\"Children=\", children)\n",
    "    return np.append(top_cands, children, axis=0)\n",
    "\n",
    "def mutate(population, mut_rate):\n",
    "    \"\"\"\n",
    "    Adds Gaussian noise to each candidate. Sigma = mutation rate.\n",
    "    \"\"\"\n",
    "    mu, sigma = 0, mut_rate\n",
    "    noise = np.random.normal(mu, sigma, population.shape)\n",
    "    population += noise\n",
    "    return population\n",
    "\n",
    "def population_fitness(sorted_cands_and_scores):\n",
    "    scores = sorted_cands_and_scores[:,1]\n",
    "    mean = np.mean(scores)\n",
    "    return mean"
   ]
  },
  {
   "cell_type": "code",
   "execution_count": 44,
   "metadata": {},
   "outputs": [
    {
     "name": "stdout",
     "output_type": "stream",
     "text": [
      "NEW BEST: 30.25\n",
      "Generation: 0  mean fitness = 15.941999999999998\n",
      "NEW BEST: 43.89\n",
      "NEW BEST: 53.46\n",
      "NEW BEST: 57.79\n",
      "NEW BEST: 65.2\n",
      "Generation: 5  mean fitness = 48.094\n",
      "NEW BEST: 93.9\n",
      "NEW BEST: 99.21\n",
      "NEW BEST: 109.0\n",
      "NEW BEST: 111.32\n",
      "Generation: 10  mean fitness = 95.031\n",
      "NEW BEST: 118.73\n",
      "NEW BEST: 127.66\n",
      "NEW BEST: 135.36\n",
      "NEW BEST: 149.73\n",
      "NEW BEST: 198.67\n",
      "Generation: 15  mean fitness = 136.45299999999997\n",
      "NEW BEST: 200.0\n",
      "Generation: 20  mean fitness = 197.19500000000002\n",
      "Generation: 25  mean fitness = 182.248\n",
      "Generation: 30  mean fitness = 196.805\n",
      "Generation: 35  mean fitness = 200.0\n",
      "Generation: 40  mean fitness = 200.0\n",
      "Generation: 45  mean fitness = 199.655\n",
      "Generation: 50  mean fitness = 200.0\n",
      "Generation: 55  mean fitness = 196.261\n",
      "Generation: 60  mean fitness = 196.247\n",
      "Generation: 65  mean fitness = 200.0\n",
      "Generation: 70  mean fitness = 200.0\n",
      "Generation: 75  mean fitness = 200.0\n",
      "Generation: 80  mean fitness = 200.0\n",
      "Generation: 85  mean fitness = 200.0\n",
      "Generation: 90  mean fitness = 181.035\n",
      "Generation: 95  mean fitness = 186.616\n",
      "Final best score: 200.0\n",
      "Final best theta: [ 0.62887362 -0.77817081 -0.28637888 -0.84578956]\n"
     ]
    }
   ],
   "source": [
    "# Genetic algorithm\n",
    "def run_GA(generations=100, population_size=10, selection_rate=0.5, mutation_rate=0.1):\n",
    "    theta_best = np.random.rand(4)\n",
    "    score_best = 0\n",
    "    #candidate solutions\n",
    "    population = init_candidates(n=population_size)\n",
    "    for it in range(generations):\n",
    "        sorted_cands_and_scores = evaluate_and_sort(population)\n",
    "        top_cands = get_top_cands(sorted_cands_and_scores, selection_rate)\n",
    "\n",
    "        best_cand_score = sorted_cands_and_scores[0,1]\n",
    "        if best_cand_score > score_best:\n",
    "            score_best = best_cand_score\n",
    "            theta_best = sorted_cands_and_scores[0,0]\n",
    "            print(\"NEW BEST:\", score_best)\n",
    "\n",
    "        population = refill_population(top_cands, population_size)\n",
    "        population = mutate(population, mutation_rate)\n",
    "\n",
    "        if it % 5==0: \n",
    "            print(\"Generation:\", it, \" mean fitness =\", population_fitness(sorted_cands_and_scores))\n",
    "            \n",
    "\n",
    "    print(\"Final best score:\", score_best)\n",
    "    print(\"Final best theta:\", theta_best)\n",
    "\n",
    "run_GA()"
   ]
  },
  {
   "cell_type": "code",
   "execution_count": 3,
   "metadata": {},
   "outputs": [
    {
     "name": "stdout",
     "output_type": "stream",
     "text": [
      "Episode reward =  200.0\n"
     ]
    }
   ],
   "source": [
    "theta = [ 0.62887362, -0.77817081, -0.28637888, -0.84578956]\n",
    "state = env.reset()\n",
    "ep_reward = 0\n",
    "done = False\n",
    "while not done:\n",
    "    env.render()\n",
    "    action = 0 if np.dot(theta, state) >= 0 else 1\n",
    "    state, reward, done, _ = env.step(action)\n",
    "    ep_reward += reward\n",
    "    #print(\"Reward received = \", reward)\n",
    "    #print(\"New state =\", new_state)\n",
    "print(\"Episode reward = \", ep_reward)\n",
    "    "
   ]
  },
  {
   "cell_type": "code",
   "execution_count": null,
   "metadata": {
    "collapsed": true
   },
   "outputs": [],
   "source": []
  }
 ],
 "metadata": {
  "kernelspec": {
   "display_name": "Python 3",
   "language": "python",
   "name": "python3"
  },
  "language_info": {
   "codemirror_mode": {
    "name": "ipython",
    "version": 3
   },
   "file_extension": ".py",
   "mimetype": "text/x-python",
   "name": "python",
   "nbconvert_exporter": "python",
   "pygments_lexer": "ipython3",
   "version": "3.6.4"
  }
 },
 "nbformat": 4,
 "nbformat_minor": 2
}
