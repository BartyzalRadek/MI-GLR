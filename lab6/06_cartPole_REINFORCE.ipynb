{
 "cells": [
  {
   "cell_type": "code",
   "execution_count": 1,
   "metadata": {
    "collapsed": true
   },
   "outputs": [],
   "source": [
    "import gym\n",
    "import numpy as np"
   ]
  },
  {
   "cell_type": "code",
   "execution_count": 4,
   "metadata": {
    "collapsed": true
   },
   "outputs": [],
   "source": [
    "def featurize(s,a):\n",
    "    return 2*a*np.tanh(s) # prevent large angular momentums from making our learning unstable\n",
    "\n",
    "def featurize_vec(s, actions):\n",
    "    "
   ]
  },
  {
   "cell_type": "code",
   "execution_count": null,
   "metadata": {
    "collapsed": true
   },
   "outputs": [],
   "source": [
    "def softmax_policy(state, action, theta):\n",
    "    \"\"\"\n",
    "    Returns probability of action in state given theta.\n",
    "    \"\"\"\n",
    "    \n",
    "    return np.exp(featurize(state, action).T.dot(theta))\n",
    "\n",
    "def policy(state, actions, theta):\n",
    "    \n",
    "    \n",
    "def gradient(state, action, theta):\n",
    "    f = featurize(state, action)\n",
    "    exp_val = np.sum()"
   ]
  }
 ],
 "metadata": {
  "kernelspec": {
   "display_name": "Python 3",
   "language": "python",
   "name": "python3"
  },
  "language_info": {
   "codemirror_mode": {
    "name": "ipython",
    "version": 3
   },
   "file_extension": ".py",
   "mimetype": "text/x-python",
   "name": "python",
   "nbconvert_exporter": "python",
   "pygments_lexer": "ipython3",
   "version": "3.6.0"
  }
 },
 "nbformat": 4,
 "nbformat_minor": 2
}
