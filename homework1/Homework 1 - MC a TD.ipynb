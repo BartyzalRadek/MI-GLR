{
 "cells": [
  {
   "cell_type": "markdown",
   "metadata": {},
   "source": [
    "# Homework 1: Montecarlo and TD methods\n",
    "\n",
    "Let's implement these methods for a simple toy case with discrete and action spaces.\n",
    "\n",
    "- Implement First-visit Montecarlo for Frozen lake (1p)\n",
    "- Implement Sarsa and Q-Learning for (1p each)\n",
    "- How does the value function V look for the different Q functions you found above? You can look at tutorial 3 for ideas how to do this plot. (1p) \n",
    "\n",
    "The code below can help you get started with TD. For inspiration about Montecarlo, look at tutorial 3.\n"
   ]
  },
  {
   "cell_type": "code",
   "execution_count": 2,
   "metadata": {},
   "outputs": [],
   "source": [
    "import numpy as np\n",
    "import gym\n",
    "from tqdm import tqdm\n",
    "import matplotlib.pyplot as plt\n",
    "from collections import defaultdict"
   ]
  },
  {
   "cell_type": "code",
   "execution_count": 3,
   "metadata": {},
   "outputs": [],
   "source": [
    "env = gym.make(\"FrozenLake-v0\")"
   ]
  },
  {
   "cell_type": "raw",
   "metadata": {},
   "source": [
    "The agent controls the movement of a character in a grid world. Some tiles of the grid are walkable, and others lead to the agent falling into the water. Additionally, the movement direction of the agent is uncertain and only partially depends on the chosen direction. The agent is rewarded for finding a walkable path to a goal tile.\n",
    "\n",
    "\n",
    "SFFF       (S: starting point, safe)\n",
    "FHFH       (F: frozen surface, safe)\n",
    "FFFH       (H: hole, fall to your doom)\n",
    "HFFG       (G: goal, where the frisbee is located)"
   ]
  },
  {
   "cell_type": "code",
   "execution_count": 4,
   "metadata": {},
   "outputs": [
    {
     "name": "stdout",
     "output_type": "stream",
     "text": [
      "Number of states = 16\n",
      "Number of actions = 4\n"
     ]
    }
   ],
   "source": [
    "print(\"Number of states =\", env.observation_space.n)\n",
    "print(\"Number of actions =\", env.action_space.n)"
   ]
  },
  {
   "cell_type": "code",
   "execution_count": 13,
   "metadata": {},
   "outputs": [],
   "source": [
    "def epsilon_greedy_policy(Q, epsilon, actions):\n",
    "    \"\"\" \n",
    "    Q is a numpy array = qualities of (state, action) pairs, \n",
    "    epsilon = prob to choose random action\n",
    "    1 - eps = prob to choose the action with best Q value = argmax(Q[s][:])\n",
    "    actions = list of actions\n",
    "    \"\"\"\n",
    "    \n",
    "    def policy_fn(state):\n",
    "        if np.random.rand()>epsilon:\n",
    "            if np.max(Q[state][:]) == 0:\n",
    "                action = np.random.choice(actions)\n",
    "            else:\n",
    "                action = np.argmax(Q[state][:])\n",
    "        else:\n",
    "            action = np.random.choice(actions)\n",
    "        return action\n",
    "    \n",
    "    return policy_fn"
   ]
  },
  {
   "cell_type": "markdown",
   "metadata": {},
   "source": [
    "### First-visit Montecarlo"
   ]
  },
  {
   "cell_type": "code",
   "execution_count": 18,
   "metadata": {},
   "outputs": [
    {
     "name": "stderr",
     "output_type": "stream",
     "text": [
      "100%|██████████| 10000/10000 [00:02<00:00, 4630.49it/s]\n"
     ]
    }
   ],
   "source": [
    "def run_episode(env, policy): \n",
    "    done = False\n",
    "    state = env.reset()\n",
    "    episode = []\n",
    "    while not done:\n",
    "        action = policy(state)\n",
    "        new_state, reward, done, _ = env.step(action)\n",
    "        episode.append((state,action,reward))\n",
    "        state = new_state    \n",
    "    return episode # returns list of (state,action,reward)\n",
    "\n",
    "n_iter = 10000\n",
    "gamma = 0.99 # discount factor\n",
    "total_episode_rewards = []\n",
    "\n",
    "Q = np.zeros([env.observation_space.n, env.action_space.n]) # Q function\n",
    "R = defaultdict(lambda: np.zeros(env.action_space.n)) # Sum of first-visit rewards of a certain (state, action)\n",
    "N = defaultdict(lambda: np.zeros(env.action_space.n)) # Number of first-visits of a certain (state, action)\n",
    "actions = range(env.action_space.n)\n",
    "\n",
    "for j in tqdm(range(n_iter)):\n",
    "    # Play 100 episodes randomly, then slowly reduce the randomness\n",
    "    policy = epsilon_greedy_policy(Q, epsilon=100./(j+1), actions = actions ) \n",
    "    \n",
    "    episode = run_episode(env, policy) # run till losing\n",
    "    \n",
    "    ep_reward = sum(x[2]*(gamma**i) for i, x in enumerate(episode)) # episode = list of (state,action,reward)\n",
    "    #if ep_reward > 0:\n",
    "    #    print(j, \"reward =\", ep_reward, \"episode=\", episode)\n",
    "    total_episode_rewards.append(ep_reward) # only for logging\n",
    "    \n",
    "    # each move in a episode is converted to a tuple of (state, action) to use as dict key\n",
    "    sa_in_episode = set([(x[0],x[1]) for x in episode]) \n",
    "    \n",
    "    # Find first visit of each (state,action) in the episode\n",
    "    for s,a in sa_in_episode:\n",
    "        first_visit = next(i for i,x in enumerate(episode) if x[0]==s and x[1]==a)\n",
    "        \n",
    "        G = sum(x[2]*(gamma**i) for i, x in enumerate(episode[first_visit:])) # calc reward from this (s,a) till the end of the episode\n",
    "        \n",
    "        R[s][a] += G\n",
    "        N[s][a] += 1\n",
    "        Q[s][a] += R[s][a]/N[s][a] # update Q-function"
   ]
  },
  {
   "cell_type": "code",
   "execution_count": 21,
   "metadata": {},
   "outputs": [
    {
     "data": {
      "text/plain": [
       "array([[ 0,  1,  2,  3],\n",
       "       [ 4,  5,  6,  7],\n",
       "       [ 8,  9, 10, 11],\n",
       "       [12, 13, 14, 15]])"
      ]
     },
     "execution_count": 21,
     "metadata": {},
     "output_type": "execute_result"
    }
   ],
   "source": [
    "arr = np.array(range(16))\n",
    "arr.reshape(4,4)"
   ]
  },
  {
   "cell_type": "code",
   "execution_count": 24,
   "metadata": {},
   "outputs": [
    {
     "name": "stdout",
     "output_type": "stream",
     "text": [
      "Q =\n",
      " [[8.49042506e+00 5.53557835e+02 3.57076677e+00 5.38038700e+00]\n",
      " [6.70830213e-01 2.31774160e+02 2.28285155e+00 2.61740932e+00]\n",
      " [1.93833822e+02 2.02316375e+00 1.41971799e+00 1.32529349e+00]\n",
      " [0.00000000e+00 2.15323396e+00 0.00000000e+00 0.00000000e+00]\n",
      " [3.90400085e+00 4.11627925e+02 1.03955934e+00 2.31312623e+00]\n",
      " [0.00000000e+00 0.00000000e+00 0.00000000e+00 0.00000000e+00]\n",
      " [1.46335826e+00 3.37065424e+00 2.21488991e+02 0.00000000e+00]\n",
      " [0.00000000e+00 0.00000000e+00 0.00000000e+00 0.00000000e+00]\n",
      " [5.54748983e-01 4.26108892e+02 2.56800008e+00 2.66573424e+00]\n",
      " [2.52746602e+00 3.46156425e+00 4.97976708e+02 4.14104417e+00]\n",
      " [4.28059950e+02 4.83739200e+00 4.39541188e+00 0.00000000e+00]\n",
      " [0.00000000e+00 0.00000000e+00 0.00000000e+00 0.00000000e+00]\n",
      " [0.00000000e+00 0.00000000e+00 0.00000000e+00 0.00000000e+00]\n",
      " [2.66110676e+00 5.33849473e+00 3.98393241e+02 7.37811872e-01]\n",
      " [3.95840300e+00 6.50215233e+02 8.27120711e+00 2.30918329e+00]\n",
      " [0.00000000e+00 0.00000000e+00 0.00000000e+00 0.00000000e+00]]\n",
      "Q argmax =\n",
      " [1 1 0 1 1 0 2 0 1 2 0 0 0 2 1 0]\n"
     ]
    }
   ],
   "source": [
    "print(\"Q =\\n\", Q)\n",
    "print(\"Q argmax =\\n\", np.argmax(Q, axis=1))"
   ]
  },
  {
   "cell_type": "code",
   "execution_count": 28,
   "metadata": {},
   "outputs": [
    {
     "data": {
      "image/png": "[encoded data removed]",
      "text/plain": [
       "<Figure size 432x288 with 2 Axes>"
      ]
     },
     "metadata": {},
     "output_type": "display_data"
    }
   ],
   "source": [
    "plt.imshow(np.argmax(Q, axis=1).reshape(4,4), cmap='hot', interpolation='nearest')\n",
    "plt.colorbar()\n",
    "plt.title(\"Best action to take in each state.\")\n",
    "plt.show()"
   ]
  },
  {
   "cell_type": "code",
   "execution_count": null,
   "metadata": {},
   "outputs": [],
   "source": []
  },
  {
   "cell_type": "code",
   "execution_count": null,
   "metadata": {},
   "outputs": [],
   "source": []
  },
  {
   "cell_type": "code",
   "execution_count": 3,
   "metadata": {},
   "outputs": [
    {
     "name": "stderr",
     "output_type": "stream",
     "text": [
      "[2018-03-06 08:21:11,952] Making new env: FrozenLake-v0\n"
     ]
    }
   ],
   "source": [
    "Q = np.zeros([env.observation_space.n, env.action_space.n])\n",
    "actions = range(env.action_space.n)\n",
    "score = [] \n",
    "\n",
    "gamma = 0.99 # discount factor\n",
    "alpha = 0.1  # \n",
    "n_episodes = 100\n",
    " \n",
    "for j in range(n_episodes):\n",
    "    done = False\n",
    "    state = env.reset()\n",
    "    \n",
    "    # Play randomly 10 episodes, then reduce slowly the randomness\n",
    "    policy = epsilon_greedy_policy(Q, epsilon=10./(j+1), actions = actions ) \n",
    "    \n",
    "    \n",
    "    ### Generate sample episode\n",
    "    t=0\n",
    "    while not done:\n",
    "        t+=1\n",
    "        action = policy(state)    \n",
    "        new_state, reward, done, _ =  env.step(action)\n",
    "        new_action = policy(new_state)\n",
    "        \n",
    "        #Book-keeping\n",
    "        if done:\n",
    "            # YOUR CODE GOES HERE\n",
    "            pass\n",
    "        else:\n",
    "            # YOUR CODE GOES HERE\n",
    "            pass\n",
    "            \n",
    "        state, action = new_state, new_action\n",
    "            \n",
    "        if done:\n",
    "            if len(score) < 100:\n",
    "                score.append(reward)\n",
    "            else:\n",
    "                score[j % 100] = reward\n",
    "                \n",
    "                \n",
    "            if (j+1)%1000 == 0:\n",
    "                print(\"INFO: Episode {} finished after {} timesteps with r={}. \\\n",
    "                Running score: {}\".format(j+1, t, reward, np.mean(score)))\n",
    "            \n",
    "\n"
   ]
  },
  {
   "cell_type": "code",
   "execution_count": null,
   "metadata": {},
   "outputs": [],
   "source": []
  },
  {
   "cell_type": "code",
   "execution_count": null,
   "metadata": {},
   "outputs": [],
   "source": []
  },
  {
   "cell_type": "code",
   "execution_count": null,
   "metadata": {},
   "outputs": [],
   "source": [
    "env.close()"
   ]
  }
 ],
 "metadata": {
  "kernelspec": {
   "display_name": "Python 3",
   "language": "python",
   "name": "python3"
  },
  "language_info": {
   "codemirror_mode": {
    "name": "ipython",
    "version": 3
   },
   "file_extension": ".py",
   "mimetype": "text/x-python",
   "name": "python",
   "nbconvert_exporter": "python",
   "pygments_lexer": "ipython3",
   "version": "3.5.2"
  }
 },
 "nbformat": 4,
 "nbformat_minor": 2
}
