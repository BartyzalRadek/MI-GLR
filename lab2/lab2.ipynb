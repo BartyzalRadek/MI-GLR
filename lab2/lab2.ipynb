{
 "cells": [
  {
   "cell_type": "code",
   "execution_count": 1,
   "metadata": {},
   "outputs": [],
   "source": [
    "import gym"
   ]
  },
  {
   "cell_type": "code",
   "execution_count": 2,
   "metadata": {},
   "outputs": [],
   "source": [
    "# -*- coding: utf-8 -*-\n",
    "\"\"\"\n",
    "Created on Mon Feb 26 23:20:19 2018\n",
    "\n",
    "@author: jpmaldonado\n",
    "\"\"\"\n",
    "\n",
    "import numpy as np\n",
    "\n",
    "solution = np.array([1, 1, -0.5])\n",
    "# the function we want to optimize for sanity check\n",
    "def f(theta):\n",
    "  # Here would go the evaluation of the episode\n",
    "  reward = -np.sum(np.square(solution - theta))\n",
    "  return reward"
   ]
  },
  {
   "cell_type": "code",
   "execution_count": null,
   "metadata": {},
   "outputs": [],
   "source": [
    "#################################\n",
    "# STARTER CODE - CEM\n",
    "#################################\n",
    "dim_theta = 3\n",
    "theta_mean = np.zeros(dim_theta)\n",
    "theta_std = np.ones(dim_theta)\n",
    "batch_size = 25 # number of samples per batch\n",
    "elite_frac = 0.2 # fraction of samples used as elite set\n",
    "\n",
    "\n",
    "n_iter = 300\n",
    "# Now, for the algorithms\n",
    "for _ in range(n_iter):\n",
    "\n",
    "    # Sample parameter vectors    \n",
    "\n",
    "    #YOUR CODE HERE    \n",
    "\n",
    "    # Get elite parameters\n",
    "    \n",
    "    #YOUR CODE HERE\n",
    "    \n",
    "    # Update theta_mean, theta_std\n",
    "    \n",
    "    #YOUR CODE HERE"
   ]
  },
  {
   "cell_type": "code",
   "execution_count": null,
   "metadata": {},
   "outputs": [],
   "source": [
    "#################################\n",
    "# STARTER CODE - NES\n",
    "#################################\n",
    "w0 = np.random.randn(3) #initial guess\n",
    "npop=50\n",
    "n_iter=300\n",
    "sigma=0.1\n",
    "alpha=0.001\n",
    "\n",
    "for _ in range(n_iter):\n",
    "    # Sample vectors from a normal distribution\n",
    "    \n",
    "    # YOUR CODE HERE\n",
    "    \n",
    "    # Sample function values by evaluating on the population\n",
    "    \n",
    "    # YOUR CODE HERE\n",
    "    \n",
    "    # Optional: standardize (substract mean and divide by std)\n",
    "    \n",
    "    # \"Gradient\" update\n",
    "    \n",
    "    # YOUR CODE HERE\n"
   ]
  }
 ],
 "metadata": {
  "kernelspec": {
   "display_name": "Python 3",
   "language": "python",
   "name": "python3"
  },
  "language_info": {
   "codemirror_mode": {
    "name": "ipython",
    "version": 3
   },
   "file_extension": ".py",
   "mimetype": "text/x-python",
   "name": "python",
   "nbconvert_exporter": "python",
   "pygments_lexer": "ipython3",
   "version": "3.6.4"
  }
 },
 "nbformat": 4,
 "nbformat_minor": 2
}
