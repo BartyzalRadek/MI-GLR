{
 "cells": [
  {
   "cell_type": "code",
   "execution_count": null,
   "metadata": {},
   "outputs": [],
   "source": []
  },
  {
   "cell_type": "code",
   "execution_count": 9,
   "metadata": {},
   "outputs": [],
   "source": [
    "# -*- coding: utf-8 -*-\n",
    "\"\"\"\n",
    "Created on Mon Feb 26 23:20:19 2018\n",
    "\n",
    "@author: outline by jpmaldonado, edited by Radek Bartyzal\n",
    "\"\"\"\n",
    "\n",
    "import numpy as np\n",
    "\n",
    "solution = np.array([1, 1, -0.5])\n",
    "# the function we want to optimize for sanity check\n",
    "def f(theta):\n",
    "  # Here would go the evaluation of the episode\n",
    "  reward = -np.sum(np.square(solution - theta))\n",
    "  return reward\n",
    "\n",
    "def vecf(thetas):\n",
    "    return [f(theta) for theta in thetas]\n",
    "\n",
    "def evaluate_and_sort(cands, f):\n",
    "    cands_and_scores = []\n",
    "    for cand in cands:\n",
    "        cands_and_scores.append(np.array([cand,f(cand)]))\n",
    "        \n",
    "    cands_and_scores = np.array(cands_and_scores)\n",
    "    sorted_cands_and_scores = sorted(cands_and_scores,key=lambda x: x[1])[::-1] # sort according to 2nd column and then reverse the array\n",
    "    return np.array(sorted_cands_and_scores)\n",
    "\n",
    "def get_top_cands(sorted_cands_and_scores, selection_rate):\n",
    "    #print(\"Sorted cands and scores:\\n\", sorted_cands_and_scores)\n",
    "    n = (int)(selection_rate * len(sorted_cands_and_scores))\n",
    "    top_cands = np.copy(sorted_cands_and_scores[0:n,0])\n",
    "    size = (n,len(top_cands[0]))\n",
    "    #print(\"Wanted size =\", size)\n",
    "    #print(\"Top cands:\\n\", top_cands)\n",
    "    top_cands = np.concatenate(top_cands)\n",
    "    top_cands = np.reshape(top_cands, size)\n",
    "    #print(\"Top cands after reshape:\\n\", top_cands)\n",
    "    return top_cands"
   ]
  },
  {
   "cell_type": "code",
   "execution_count": 6,
   "metadata": {},
   "outputs": [
    {
     "name": "stdout",
     "output_type": "stream",
     "text": [
      "Final best score: -999999\n",
      "Final best theta: [0, 0, 0]\n",
      "Approximating   : [ 1.   1.  -0.5]\n",
      "NEW BEST: -0.16937240671351786\n",
      "Generation: 0\n",
      "NEW BEST: -0.11667221813561474\n",
      "NEW BEST: -0.03694935148319528\n",
      "NEW BEST: -0.01672875435199179\n",
      "NEW BEST: -0.0029797500860808245\n",
      "NEW BEST: -0.0025757236744202716\n",
      "Generation: 50\n",
      "NEW BEST: -0.0009809090436006293\n",
      "Generation: 100\n",
      "Generation: 150\n",
      "Generation: 200\n",
      "Generation: 250\n",
      "Generation: 300\n",
      "Generation: 350\n",
      "NEW BEST: -0.0008852779766783092\n",
      "Generation: 400\n",
      "Generation: 450\n"
     ]
    }
   ],
   "source": [
    "#################################\n",
    "# STARTER CODE - CEM\n",
    "#################################\n",
    "\n",
    "#batch_size = 25 # number of samples per batch = population size\n",
    "#elite_frac = 0.2 # fraction of samples used as elite set\n",
    "\n",
    "\n",
    "def cross_entropy(n_iter = 500, batch_size = 25, elite_frac = 0.2):\n",
    "    dim_theta = 3\n",
    "    score_best = -999999\n",
    "    theta_best = [0,0,0]\n",
    "    theta_mean = np.zeros(dim_theta)\n",
    "    theta_std = np.ones(dim_theta)\n",
    "\n",
    "    for it in range(n_iter):\n",
    "        # Sample parameter vectors \n",
    "        samples = np.random.multivariate_normal(theta_mean, np.diag(theta_std), batch_size)   \n",
    "\n",
    "        # Evaluate candidates = samples\n",
    "        sorted_cands_and_scores = evaluate_and_sort(samples, f)\n",
    "\n",
    "        best_cand_score = sorted_cands_and_scores[0,1]\n",
    "        if best_cand_score > score_best:\n",
    "            score_best = best_cand_score\n",
    "            theta_best = sorted_cands_and_scores[0,0]\n",
    "            print(\"NEW BEST:\", score_best)\n",
    "\n",
    "        # Get elite parameters\n",
    "        top_cands = get_top_cands(sorted_cands_and_scores, elite_frac)\n",
    "\n",
    "        # Update theta_mean, theta_std\n",
    "        theta_mean = np.mean(top_cands, axis=0)\n",
    "        theta_std = np.std(top_cands, axis=0)\n",
    "\n",
    "        if it % 50==0: \n",
    "            print(\"Generation:\", it)\n",
    "\n",
    "print(\"Final best score:\", score_best)\n",
    "print(\"Final best theta:\", theta_best)\n",
    "print(\"Approximating   :\", solution)\n",
    "\n",
    "cross_entropy()"
   ]
  },
  {
   "cell_type": "code",
   "execution_count": null,
   "metadata": {},
   "outputs": [],
   "source": [
    "np.random.multivariate_normal(theta_mean, np.diag(theta_std), 3)"
   ]
  },
  {
   "cell_type": "code",
   "execution_count": 11,
   "metadata": {},
   "outputs": [
    {
     "name": "stdout",
     "output_type": "stream",
     "text": [
      "NEW BEST: -0.24212926292247144\n"
     ]
    },
    {
     "ename": "TypeError",
     "evalue": "unsupported operand type(s) for -: 'list' and 'list'",
     "output_type": "error",
     "traceback": [
      "\u001b[0;31m---------------------------------------------------------------------------\u001b[0m",
      "\u001b[0;31mTypeError\u001b[0m                                 Traceback (most recent call last)",
      "\u001b[0;32m<ipython-input-11-a0262eb9b383>\u001b[0m in \u001b[0;36m<module>\u001b[0;34m()\u001b[0m\n\u001b[1;32m     34\u001b[0m     \u001b[0;31m# \"Gradient\" update\u001b[0m\u001b[0;34m\u001b[0m\u001b[0;34m\u001b[0m\u001b[0m\n\u001b[1;32m     35\u001b[0m     \u001b[0;32mfor\u001b[0m \u001b[0mx\u001b[0m \u001b[0;32min\u001b[0m \u001b[0mpopulation\u001b[0m\u001b[0;34m:\u001b[0m\u001b[0;34m\u001b[0m\u001b[0m\n\u001b[0;32m---> 36\u001b[0;31m         \u001b[0mx\u001b[0m \u001b[0;34m=\u001b[0m \u001b[0mx\u001b[0m \u001b[0;34m+\u001b[0m \u001b[0malpha\u001b[0m \u001b[0;34m*\u001b[0m \u001b[0;34m(\u001b[0m\u001b[0;36m1.0\u001b[0m\u001b[0;34m/\u001b[0m\u001b[0mnpop\u001b[0m\u001b[0;34m)\u001b[0m \u001b[0;34m*\u001b[0m \u001b[0mnp\u001b[0m\u001b[0;34m.\u001b[0m\u001b[0msum\u001b[0m\u001b[0;34m(\u001b[0m\u001b[0;34m(\u001b[0m\u001b[0mevals_with_noise\u001b[0m \u001b[0;34m-\u001b[0m \u001b[0mevals\u001b[0m\u001b[0;34m)\u001b[0m \u001b[0;34m/\u001b[0m \u001b[0msigma\u001b[0m\u001b[0;34m,\u001b[0m \u001b[0maxis\u001b[0m\u001b[0;34m=\u001b[0m\u001b[0;36m0\u001b[0m\u001b[0;34m)\u001b[0m\u001b[0;34m\u001b[0m\u001b[0m\n\u001b[0m\u001b[1;32m     37\u001b[0m \u001b[0;34m\u001b[0m\u001b[0m\n\u001b[1;32m     38\u001b[0m \u001b[0;34m\u001b[0m\u001b[0m\n",
      "\u001b[0;31mTypeError\u001b[0m: unsupported operand type(s) for -: 'list' and 'list'"
     ]
    }
   ],
   "source": [
    "#################################\n",
    "# STARTER CODE - NES\n",
    "#################################\n",
    "dim_theta = 3\n",
    "w0 = np.random.randn(3) #initial guess\n",
    "npop=50\n",
    "n_iter=1\n",
    "sigma=0.1\n",
    "alpha=0.001\n",
    "\n",
    "theta_mean = np.zeros(dim_theta)\n",
    "theta_std = np.ones(dim_theta)\n",
    "score_best = -999999\n",
    "theta_best = [0,0,0]\n",
    "\n",
    "# init population\n",
    "population = np.random.multivariate_normal(theta_mean, np.diag(theta_std), npop) \n",
    "\n",
    "for _ in range(n_iter):\n",
    "    # Sample vectors from a normal distribution\n",
    "    noise_samples = np.random.multivariate_normal(theta_mean, np.diag(theta_std), npop) \n",
    "    \n",
    "    # Sample function values by evaluating on the population\n",
    "    evals = vecf(population)\n",
    "    evals_with_noise = vecf(np.copy(population) + sigma*noise_samples)\n",
    "    \n",
    "    best_cand_score = np.max(evals)\n",
    "    if best_cand_score > score_best:\n",
    "        score_best = best_cand_score\n",
    "        print(\"NEW BEST:\", score_best)\n",
    "    \n",
    "    # Optional: standardize (substract mean and divide by std)\n",
    "    \n",
    "    # \"Gradient\" update\n",
    "    for x in population:\n",
    "        x = x + alpha * (1.0/npop) * np.sum((evals_with_noise - evals) / sigma, axis=0)\n",
    "    \n",
    "    \n"
   ]
  },
  {
   "cell_type": "code",
   "execution_count": null,
   "metadata": {},
   "outputs": [],
   "source": []
  }
 ],
 "metadata": {
  "kernelspec": {
   "display_name": "Python 3",
   "language": "python",
   "name": "python3"
  },
  "language_info": {
   "codemirror_mode": {
    "name": "ipython",
    "version": 3
   },
   "file_extension": ".py",
   "mimetype": "text/x-python",
   "name": "python",
   "nbconvert_exporter": "python",
   "pygments_lexer": "ipython3",
   "version": "3.6.4"
  }
 },
 "nbformat": 4,
 "nbformat_minor": 2
}
