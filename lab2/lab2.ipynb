{
 "cells": [
  {
   "cell_type": "code",
   "execution_count": null,
   "metadata": {},
   "outputs": [],
   "source": []
  },
  {
   "cell_type": "code",
   "execution_count": 9,
   "metadata": {},
   "outputs": [],
   "source": [
    "# -*- coding: utf-8 -*-\n",
    "\"\"\"\n",
    "Created on Mon Feb 26 23:20:19 2018\n",
    "\n",
    "@author: outline by jpmaldonado, edited by Radek Bartyzal\n",
    "\"\"\"\n",
    "\n",
    "import numpy as np\n",
    "\n",
    "solution = np.array([1, 1, -0.5])\n",
    "# the function we want to optimize for sanity check\n",
    "def f(theta):\n",
    "  # Here would go the evaluation of the episode\n",
    "  reward = -np.sum(np.square(solution - theta))\n",
    "  return reward\n",
    "\n",
    "def vecf(thetas):\n",
    "    return [f(theta) for theta in thetas]\n",
    "\n",
    "def evaluate_and_sort(cands, f):\n",
    "    cands_and_scores = []\n",
    "    for cand in cands:\n",
    "        cands_and_scores.append(np.array([cand,f(cand)]))\n",
    "        \n",
    "    cands_and_scores = np.array(cands_and_scores)\n",
    "    sorted_cands_and_scores = sorted(cands_and_scores,key=lambda x: x[1])[::-1] # sort according to 2nd column and then reverse the array\n",
    "    return np.array(sorted_cands_and_scores)\n",
    "\n",
    "def get_top_cands(sorted_cands_and_scores, selection_rate):\n",
    "    #print(\"Sorted cands and scores:\\n\", sorted_cands_and_scores)\n",
    "    n = (int)(selection_rate * len(sorted_cands_and_scores))\n",
    "    top_cands = np.copy(sorted_cands_and_scores[0:n,0])\n",
    "    size = (n,len(top_cands[0]))\n",
    "    #print(\"Wanted size =\", size)\n",
    "    #print(\"Top cands:\\n\", top_cands)\n",
    "    top_cands = np.concatenate(top_cands)\n",
    "    top_cands = np.reshape(top_cands, size)\n",
    "    #print(\"Top cands after reshape:\\n\", top_cands)\n",
    "    return top_cands"
   ]
  },
  {
   "cell_type": "code",
   "execution_count": 6,
   "metadata": {},
   "outputs": [
    {
     "name": "stdout",
     "output_type": "stream",
     "text": [
      "Final best score: -999999\n",
      "Final best theta: [0, 0, 0]\n",
      "Approximating   : [ 1.   1.  -0.5]\n",
      "NEW BEST: -0.16937240671351786\n",
      "Generation: 0\n",
      "NEW BEST: -0.11667221813561474\n",
      "NEW BEST: -0.03694935148319528\n",
      "NEW BEST: -0.01672875435199179\n",
      "NEW BEST: -0.0029797500860808245\n",
      "NEW BEST: -0.0025757236744202716\n",
      "Generation: 50\n",
      "NEW BEST: -0.0009809090436006293\n",
      "Generation: 100\n",
      "Generation: 150\n",
      "Generation: 200\n",
      "Generation: 250\n",
      "Generation: 300\n",
      "Generation: 350\n",
      "NEW BEST: -0.0008852779766783092\n",
      "Generation: 400\n",
      "Generation: 450\n"
     ]
    }
   ],
   "source": [
    "#################################\n",
    "# STARTER CODE - CEM\n",
    "#################################\n",
    "\n",
    "#batch_size = 25 # number of samples per batch = population size\n",
    "#elite_frac = 0.2 # fraction of samples used as elite set\n",
    "\n",
    "\n",
    "def cross_entropy(n_iter = 500, batch_size = 25, elite_frac = 0.2):\n",
    "    dim_theta = 3\n",
    "    score_best = -999999\n",
    "    theta_best = [0,0,0]\n",
    "    theta_mean = np.zeros(dim_theta)\n",
    "    theta_std = np.ones(dim_theta)\n",
    "\n",
    "    for it in range(n_iter):\n",
    "        # Sample parameter vectors \n",
    "        samples = np.random.multivariate_normal(theta_mean, np.diag(theta_std), batch_size)   \n",
    "\n",
    "        # Evaluate candidates = samples\n",
    "        sorted_cands_and_scores = evaluate_and_sort(samples, f)\n",
    "\n",
    "        best_cand_score = sorted_cands_and_scores[0,1]\n",
    "        if best_cand_score > score_best:\n",
    "            score_best = best_cand_score\n",
    "            theta_best = sorted_cands_and_scores[0,0]\n",
    "            print(\"NEW BEST:\", score_best)\n",
    "\n",
    "        # Get elite parameters\n",
    "        top_cands = get_top_cands(sorted_cands_and_scores, elite_frac)\n",
    "\n",
    "        # Update theta_mean, theta_std\n",
    "        theta_mean = np.mean(top_cands, axis=0)\n",
    "        theta_std = np.std(top_cands, axis=0)\n",
    "\n",
    "        if it % 50==0: \n",
    "            print(\"Generation:\", it)\n",
    "\n",
    "print(\"Final best score:\", score_best)\n",
    "print(\"Final best theta:\", theta_best)\n",
    "print(\"Approximating   :\", solution)\n",
    "\n",
    "cross_entropy()"
   ]
  },
  {
   "cell_type": "code",
   "execution_count": null,
   "metadata": {},
   "outputs": [],
   "source": [
    "np.random.multivariate_normal(theta_mean, np.diag(theta_std), 3)"
   ]
  },
  {
   "cell_type": "code",
   "execution_count": 10,
   "metadata": {},
   "outputs": [
    {
     "name": "stdout",
     "output_type": "stream",
     "text": [
      "[-4.679301899088952, -6.467501347684674, -9.824412875804612, -9.305983043602343, -3.063527598016704, -1.9625130375333548, -8.730175698100648, -6.987121430106243, -0.7999079825851819, -8.096452494060776, -3.8493919478246017, -3.8758680602882247, -8.70231008047342, -11.738413801679803, -2.23368389232137, -4.255505297700613, -0.6648935267950804, -3.333481322819757, -17.00391963961295, -19.0370664826153, -1.4778080795576345, -1.6608075127908557, -0.5527669953503593, -2.706228794272242, -6.879627646636759, -2.0449420868302433, -4.7271792135637085, -2.8645952391321945, -6.664969472071656, -1.9601390928444844, -7.669489187334774, -7.713463764138132, -16.267697979929753, -6.407481828703017, -7.03628739162332, -0.5165651691688244, -5.340498797520761, -11.045270201831208, -7.956097212206786, -3.02255072654349, -7.978638981000845, -1.7457672184840534, -5.886806164220111, -9.523197908473822, -7.644811838647621, -3.984407265686322, -10.832915783462132, -2.6534303373084986, -7.856885682012852, -5.140661356093982]\n",
      "NEW BEST: -0.09147630196987894\n"
     ]
    }
   ],
   "source": [
    "#################################\n",
    "# STARTER CODE - NES\n",
    "#################################\n",
    "dim_theta = 3\n",
    "w0 = np.random.randn(3) #initial guess\n",
    "npop=50\n",
    "n_iter=1\n",
    "sigma=0.1\n",
    "alpha=0.001\n",
    "\n",
    "theta_mean = np.zeros(dim_theta)\n",
    "theta_std = np.ones(dim_theta)\n",
    "score_best = -999999\n",
    "theta_best = [0,0,0]\n",
    "\n",
    "# init population\n",
    "population = np.random.multivariate_normal(theta_mean, np.diag(theta_std), npop) \n",
    "\n",
    "for _ in range(n_iter):\n",
    "    # Sample vectors from a normal distribution\n",
    "    noise_samples = np.random.multivariate_normal(theta_mean, np.diag(theta_std), npop) \n",
    "    \n",
    "    # Sample function values by evaluating on the population\n",
    "    evals = vecf(population)\n",
    "    evals_with_noise = vecf(np.copy(population) + sigma*noise_samples)\n",
    "    \n",
    "    best_cand_score = np.max(evals)\n",
    "    if best_cand_score > score_best:\n",
    "        score_best = best_cand_score\n",
    "        print(\"NEW BEST:\", score_best)\n",
    "    \n",
    "    # Optional: standardize (substract mean and divide by std)\n",
    "    \n",
    "    # \"Gradient\" update\n",
    "    for x in population:\n",
    "        x = x + alpha * (1.0/npop) * evals\n",
    "    \n",
    "    \n"
   ]
  },
  {
   "cell_type": "code",
   "execution_count": null,
   "metadata": {},
   "outputs": [],
   "source": []
  }
 ],
 "metadata": {
  "kernelspec": {
   "display_name": "Python 3",
   "language": "python",
   "name": "python3"
  },
  "language_info": {
   "codemirror_mode": {
    "name": "ipython",
    "version": 3
   },
   "file_extension": ".py",
   "mimetype": "text/x-python",
   "name": "python",
   "nbconvert_exporter": "python",
   "pygments_lexer": "ipython3",
   "version": "3.6.4"
  }
 },
 "nbformat": 4,
 "nbformat_minor": 2
}
