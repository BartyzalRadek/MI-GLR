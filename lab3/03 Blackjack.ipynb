{
 "cells": [
  {
   "cell_type": "code",
   "execution_count": 9,
   "metadata": {},
   "outputs": [],
   "source": [
    "import gym\n",
    "import numpy as np\n",
    "import matplotlib.pyplot as plt\n",
    "import pandas as pd\n",
    "import seaborn as sns\n",
    "from collections import defaultdict\n",
    "from tqdm import tqdm"
   ]
  },
  {
   "cell_type": "code",
   "execution_count": 3,
   "metadata": {
    "scrolled": true
   },
   "outputs": [],
   "source": [
    "env = gym.make('Blackjack-v0')"
   ]
  },
  {
   "cell_type": "code",
   "execution_count": 4,
   "metadata": {},
   "outputs": [
    {
     "name": "stdout",
     "output_type": "stream",
     "text": [
      "Simple blackjack environment\n",
      "\n",
      "    Blackjack is a card game where the goal is to obtain cards that sum to as\n",
      "    near as possible to 21 without going over.  They're playing against a fixed\n",
      "    dealer.\n",
      "    Face cards (Jack, Queen, King) have point value 10.\n",
      "    Aces can either count as 11 or 1, and it's called 'usable' at 11.\n",
      "    This game is placed with an infinite deck (or with replacement).\n",
      "    The game starts with each (player and dealer) having one face up and one\n",
      "    face down card.\n",
      "\n",
      "    The player can request additional cards (hit=1) until they decide to stop\n",
      "    (stick=0) or exceed 21 (bust).\n",
      "\n",
      "    After the player sticks, the dealer reveals their facedown card, and draws\n",
      "    until their sum is 17 or greater.  If the dealer goes bust the player wins.\n",
      "\n",
      "    If neither player nor dealer busts, the outcome (win, lose, draw) is\n",
      "    decided by whose sum is closer to 21.  The reward for winning is +1,\n",
      "    drawing is 0, and losing is -1.\n",
      "\n",
      "    The observation of a 3-tuple of: the players current sum,\n",
      "    the dealer's one showing card (1-10 where 1 is ace),\n",
      "    and whether or not the player holds a usable ace (0 or 1).\n",
      "\n",
      "    This environment corresponds to the version of the blackjack problem\n",
      "    described in Example 5.1 in Reinforcement Learning: An Introduction\n",
      "    by Sutton and Barto (1998).\n",
      "    http://incompleteideas.net/sutton/book/the-book.html\n",
      "    \n"
     ]
    }
   ],
   "source": [
    "print(env.__doc__)"
   ]
  },
  {
   "cell_type": "code",
   "execution_count": 5,
   "metadata": {},
   "outputs": [],
   "source": [
    "## The code below shows how to implement GLIE.\n",
    "\n",
    "def sample_policy(state):\n",
    "    \"Stick at 20, otherwise hit\"\n",
    "    score, dealer_score, usable_ace = state\n",
    "    return 0 if score >= 20 else 1\n",
    "\n",
    "def epsilon_greedy_policy(state, Q, eps):\n",
    "    \"\"\"\n",
    "    epsilon = prob to play randomly\n",
    "    1 - eps = prob to play the action with best Q value = argmax(Q[s][:])\n",
    "    \"\"\"\n",
    "    if np.random.uniform() > epsilon:\n",
    "        return np.argmax(Q[s][:])\n",
    "    else:\n",
    "        number_of_actions = 2\n",
    "        return np.random.randint(number_of_actions)\n",
    "\n",
    "def run_episode(env, policy): \n",
    "    done = False\n",
    "    state = env.reset()\n",
    "    episode = []\n",
    "    while not done:\n",
    "        action = policy(state)\n",
    "        new_state, reward, done, _ = env.step(action)\n",
    "        episode.append((state,action,reward))\n",
    "        state = new_state    \n",
    "    return episode"
   ]
  },
  {
   "cell_type": "code",
   "execution_count": 6,
   "metadata": {},
   "outputs": [
    {
     "name": "stdout",
     "output_type": "stream",
     "text": [
      "ep =  [((20, 9, False), 0, -1.0)]\n",
      "reward = -1.0\n"
     ]
    }
   ],
   "source": [
    "episode = run_episode(env, sample_policy)\n",
    "ep_reward = sum(x[2]*(0.9**i) for i, x in enumerate(episode))\n",
    "print(\"ep = \", episode)\n",
    "print(\"reward =\", ep_reward)"
   ]
  },
  {
   "cell_type": "markdown",
   "metadata": {},
   "source": [
    "### Prediciton problem\n",
    " = estimate return of the policy"
   ]
  },
  {
   "cell_type": "code",
   "execution_count": 25,
   "metadata": {},
   "outputs": [
    {
     "name": "stderr",
     "output_type": "stream",
     "text": [
      "100%|██████████| 50000/50000 [00:04<00:00, 11439.88it/s]\n"
     ]
    }
   ],
   "source": [
    "n_iter = 50000\n",
    "\n",
    "gamma = 0.9 # discount factor\n",
    "\n",
    "Q = defaultdict(lambda: np.zeros(env.action_space.n)) # Q function\n",
    "R = defaultdict(lambda: np.zeros(env.action_space.n)) # Sum of first-visit rewards of a certain (state, action)\n",
    "N = defaultdict(lambda: np.zeros(env.action_space.n)) # Number of first-visits of a certain (state, action)\n",
    "\n",
    "for j in tqdm(range(n_iter)):\n",
    "    episode = run_episode(env,sample_policy) # run till losing\n",
    "    ep_reward = sum(x[2]*(gamma**i) for i, x in enumerate(episode)) # episode = list of (state,action,reward)\n",
    "    \n",
    "    sa_in_episode = set([(tuple(x[0]),x[1]) for x in episode]) # each state is converted to a tuple to use as dict key\n",
    "    \n",
    "    # Find first visit of each (state,action) in the episode\n",
    "    for s,a in sa_in_episode:\n",
    "        first_visit = next(i for i,x in enumerate(episode) if x[0]==s and x[1]==a)\n",
    "        \n",
    "        G = sum(x[2]*(gamma**i) for i, x in enumerate(episode[first_visit:])) # calc reward from this (s,a) till the end of the episode\n",
    "        R[s][a] += G\n",
    "        N[s][a] += 1\n",
    "        Q[s][a] += R[s][a]/N[s][a] # update Q-function"
   ]
  },
  {
   "cell_type": "code",
   "execution_count": 19,
   "metadata": {},
   "outputs": [],
   "source": [
    "V = defaultdict(float)\n",
    "for state, actions in Q.items():\n",
    "    action_value = np.max(actions)\n",
    "    V[state] = action_value\n",
    "\n",
    "keys = sorted(V.keys())\n",
    "score = [k[0] for k in keys]\n",
    "dealer_score = [k[1] for k in keys]\n",
    "usable = [k[2] for k in keys]\n",
    "vals = [V[k] for k in keys] \n",
    "\n",
    "df = pd.DataFrame({'score':score,'dealer_score':dealer_score,'usable':usable, 'val':vals})"
   ]
  },
  {
   "cell_type": "code",
   "execution_count": 20,
   "metadata": {},
   "outputs": [
    {
     "data": {
      "text/plain": [
       "Text(0.5,1,'Usable ace')"
      ]
     },
     "execution_count": 20,
     "metadata": {},
     "output_type": "execute_result"
    },
    {
     "data": {
      "image/png": "[encoded data removed]",
      "text/plain": [
       "<Figure size 432x288 with 2 Axes>"
      ]
     },
     "metadata": {},
     "output_type": "display_data"
    }
   ],
   "source": [
    "ax = plt.axes()\n",
    "sns.heatmap(df[df['usable']==True].pivot('dealer_score','score','val'), ax = ax)\n",
    "ax.set_title(\"Usable ace\")"
   ]
  },
  {
   "cell_type": "code",
   "execution_count": 21,
   "metadata": {},
   "outputs": [
    {
     "data": {
      "text/plain": [
       "Text(0.5,1,'Non-usable ace')"
      ]
     },
     "execution_count": 21,
     "metadata": {},
     "output_type": "execute_result"
    },
    {
     "data": {
      "image/png": "[encoded data removed]",
      "text/plain": [
       "<Figure size 432x288 with 2 Axes>"
      ]
     },
     "metadata": {},
     "output_type": "display_data"
    }
   ],
   "source": [
    "ax = plt.axes()\n",
    "sns.heatmap(df[df['usable']==False].pivot('dealer_score','score','val'), ax = ax)\n",
    "ax.set_title(\"Non-usable ace\")"
   ]
  },
  {
   "cell_type": "markdown",
   "metadata": {},
   "source": [
    "## Your turn:\n",
    "\n",
    "- Can you modify the code above to implement first-visit Montecarlo with GLIE (\"Greedy in the limit with infinite exploration\")?\n",
    "- Plot the value function"
   ]
  },
  {
   "cell_type": "markdown",
   "metadata": {},
   "source": [
    "### Control problem\n",
    " = choose policy giving best returns\n",
    "\n",
    "First visit $\\pi$ -> Q:\n",
    "1. start with randomly initialized Q function = quality of (state, action) \n",
    "2. Q function determines the policy => $\\epsilon$-greedy strategy selects best action for a state\n",
    "3. $\\epsilon$ <- f($\\epsilon$), f = decreasing function such as f(x) = $\\gamma*x$\n",
    "    $\\epsilon$ = 1 = play randomly\n",
    "    \n",
    "    $\\epsilon$ = 0.9 = play random action 90% of time, 10% of time choose best action acc to Q function = argmax(Q[s][:]) \n",
    "    \n",
    "    Decrease $\\epsilon$ with time = Greedy in the limit with infinite exploration.\n",
    "    \n",
    "**Policy** = which action to take in which state\n",
    "\n",
    "**Q function** = returns quality of a (state, action) pair. E.g. table with \n",
    "\n",
    "$$\n",
    "\\frac{ sum of first-visit rewards } { # of first-visits } \n",
    "$$\n",
    "\n",
    "for each (state, action)\n",
    "\n",
    "**First-visit reward** = cumulative reward of a certain (state, action) pair = sum of rewards collected after the first occurence of the (state, action) pair till the end of the episode.\n",
    "\n",
    "**Updating Q function:** After each episode we update the Q function = Q table with quality of states or we can update after a certain number of episodes = that batch of episodes without cumulating rewards is called roll-out."
   ]
  },
  {
   "cell_type": "code",
   "execution_count": 10,
   "metadata": {},
   "outputs": [
    {
     "name": "stderr",
     "output_type": "stream",
     "text": [
      "100%|██████████| 50000/50000 [00:03<00:00, 14629.41it/s]\n"
     ]
    }
   ],
   "source": [
    "def epsilon_greedy_policy(state, Q, eps):\n",
    "    \"\"\"\n",
    "    epsilon = prob to play randomly\n",
    "    1 - eps = prob to play the action with best Q value = argmax(Q[s][:])\n",
    "    \"\"\"\n",
    "    if np.random.uniform() > eps:\n",
    "        return np.argmax(Q[s][:])\n",
    "    else:\n",
    "        number_of_actions = 2\n",
    "        return np.random.randint(number_of_actions)\n",
    "\n",
    "def run_episode(env, Q, eps): \n",
    "    done = False\n",
    "    state = env.reset()\n",
    "    episode = []\n",
    "    while not done:\n",
    "        action = epsilon_greedy_policy(state, Q, eps)\n",
    "        new_state, reward, done, _ = env.step(action)\n",
    "        episode.append((state,action,reward))\n",
    "        state = new_state    \n",
    "    return episode # list of (state,action,reward)\n",
    "\n",
    "n_iter = 50000\n",
    "gamma = 0.9 # discount factor\n",
    "eps = 1.0\n",
    "total_episode_rewards = []\n",
    "\n",
    "Q = defaultdict(lambda: np.zeros(env.action_space.n)) # Q function\n",
    "R = defaultdict(lambda: np.zeros(env.action_space.n)) # Sum of first-visit rewards of a certain (state, action)\n",
    "N = defaultdict(lambda: np.zeros(env.action_space.n)) # Number of first-visits of a certain (state, action)\n",
    "\n",
    "for j in tqdm(range(n_iter)):\n",
    "    episode = run_episode(env, Q, eps) # run till losing\n",
    "    eps *= 0.95 # decrease epsilon\n",
    "    \n",
    "    ep_reward = sum(x[2]*(gamma**i) for i, x in enumerate(episode)) # episode = list of (state,action,reward)\n",
    "    total_episode_rewards.append(ep_reward) # only for logging\n",
    "    \n",
    "    # each move in a episode is converted to a tuple of (state, action) to use as dict key\n",
    "    sa_in_episode = set([(tuple(x[0]),x[1]) for x in episode]) \n",
    "    \n",
    "    # Find first visit of each (state,action) in the episode\n",
    "    for s,a in sa_in_episode:\n",
    "        first_visit = next(i for i,x in enumerate(episode) if x[0]==s and x[1]==a)\n",
    "        \n",
    "        G = sum(x[2]*(gamma**i) for i, x in enumerate(episode[first_visit:])) # calc reward from this (s,a) till the end of the episode\n",
    "        R[s][a] += G\n",
    "        N[s][a] += 1\n",
    "        Q[s][a] += R[s][a]/N[s][a] # update Q-function"
   ]
  },
  {
   "cell_type": "code",
   "execution_count": 18,
   "metadata": {},
   "outputs": [
    {
     "data": {
      "text/plain": [
       "defaultdict(<function __main__.<lambda>>,\n",
       "            {(4, 1, False): array([-10.     ,  -3.98655]),\n",
       "             (4, 2, False): array([-4.51433077, -6.73763786]),\n",
       "             (4, 3, False): array([-3.38675769, -7.69313411]),\n",
       "             (4, 4, False): array([-6.16824081, -3.604095  ]),\n",
       "             (4, 5, False): array([-8.80342899, -5.72685   ]),\n",
       "             (4, 6, False): array([-0.30072411, -4.01922   ]),\n",
       "             (4, 7, False): array([-10.26867329,  -4.9866    ]),\n",
       "             (4, 8, False): array([ 1.73057043, -3.8826    ]),\n",
       "             (4, 9, False): array([-11.69080952,  -4.793895  ]),\n",
       "             (4, 10, False): array([-18.36879977, -21.8184483 ]),\n",
       "             (5, 1, False): array([-36.64518257, -15.91558326]),\n",
       "             (5, 2, False): array([  3.90020392, -16.50644061]),\n",
       "             (5, 3, False): array([-23.42007482,  -7.81411429]),\n",
       "             (5, 4, False): array([ -8.10761001, -16.3271652 ]),\n",
       "             (5, 5, False): array([-1.679586  , -8.36248925]),\n",
       "             (5, 6, False): array([-12.89439597,  -6.71540532]),\n",
       "             (5, 7, False): array([-11.28570286,  -8.36492821]),\n",
       "             (5, 8, False): array([-27.46152201,  -6.42822321]),\n",
       "             (5, 9, False): array([-16.92835393, -10.24954086]),\n",
       "             (5, 10, False): array([-73.81086177, -39.1066493 ]),\n",
       "             (6, 1, False): array([-32.22221477, -14.06708717]),\n",
       "             (6, 2, False): array([ -0.32058971, -13.69789028]),\n",
       "             (6, 3, False): array([ -9.3080355 , -18.04178094]),\n",
       "             (6, 4, False): array([-16.26140464, -14.64193383]),\n",
       "             (6, 5, False): array([ -8.98720104, -23.91566998]),\n",
       "             (6, 6, False): array([ -3.48392723, -16.2350185 ]),\n",
       "             (6, 7, False): array([-10.06985125, -13.49045646]),\n",
       "             (6, 8, False): array([-32.95226894, -13.7989367 ]),\n",
       "             (6, 9, False): array([-22.96914721, -21.38097222]),\n",
       "             (6, 10, False): array([-78.00305154, -60.00414406]),\n",
       "             (7, 1, False): array([-39.76140288, -28.71806589]),\n",
       "             (7, 2, False): array([-23.88050574, -18.71557836]),\n",
       "             (7, 3, False): array([-34.5000814 , -18.85198337]),\n",
       "             (7, 4, False): array([-19.03612749, -20.30589599]),\n",
       "             (7, 5, False): array([ 14.17760455, -19.7034139 ]),\n",
       "             (7, 6, False): array([-14.41541437, -18.06932283]),\n",
       "             (7, 7, False): array([-44.20020965, -19.5674374 ]),\n",
       "             (7, 8, False): array([-42.11447197, -15.84821227]),\n",
       "             (7, 9, False): array([-50.98373561, -16.13320348]),\n",
       "             (7, 10, False): array([-163.17191295,  -91.40578941]),\n",
       "             (8, 1, False): array([-33.80525838, -31.16877813]),\n",
       "             (8, 2, False): array([ -3.87250326, -26.60886407]),\n",
       "             (8, 3, False): array([ -7.18656644, -21.61983086]),\n",
       "             (8, 4, False): array([-19.79810726, -28.21874966]),\n",
       "             (8, 5, False): array([-18.37208696, -27.07143243]),\n",
       "             (8, 6, False): array([-17.29409027, -25.5095088 ]),\n",
       "             (8, 7, False): array([-46.35895292, -27.28290852]),\n",
       "             (8, 8, False): array([-22.30772985, -24.38493738]),\n",
       "             (8, 9, False): array([-32.85365169, -31.74700442]),\n",
       "             (8, 10, False): array([-184.70904181, -120.08777872]),\n",
       "             (9, 1, False): array([-53.35785285, -38.33647402]),\n",
       "             (9, 2, False): array([-23.91904493, -30.48909628]),\n",
       "             (9, 3, False): array([-45.90470767, -32.86933571]),\n",
       "             (9, 4, False): array([ -0.22878581, -27.56883462]),\n",
       "             (9, 5, False): array([-15.84603336, -33.38755109]),\n",
       "             (9, 6, False): array([ -8.88134623, -36.39177936]),\n",
       "             (9, 7, False): array([-45.55380037, -42.44796124]),\n",
       "             (9, 8, False): array([-12.65366351, -43.04423191]),\n",
       "             (9, 9, False): array([-37.06592864, -40.2717284 ]),\n",
       "             (9, 10, False): array([-226.62544773, -132.24004366]),\n",
       "             (10, 1, False): array([-75.91118045, -40.41567502]),\n",
       "             (10, 2, False): array([-50.78884152, -41.38143497]),\n",
       "             (10, 3, False): array([-44.03619066, -44.38878326]),\n",
       "             (10, 4, False): array([-16.24609212, -54.07202947]),\n",
       "             (10, 5, False): array([ -8.7959184 , -40.98695626]),\n",
       "             (10, 6, False): array([-40.07784189, -56.12774597]),\n",
       "             (10, 7, False): array([-45.36076006, -45.15729612]),\n",
       "             (10, 8, False): array([-84.06897183, -47.80242779]),\n",
       "             (10, 9, False): array([-44.0308951 , -44.19146473]),\n",
       "             (10, 10, False): array([-236.81491006, -164.49018699]),\n",
       "             (11, 1, False): array([-108.29453134,  -44.37999679]),\n",
       "             (11, 2, False): array([-32.57011652, -54.24902645]),\n",
       "             (11, 3, False): array([-49.69536116, -44.68163203]),\n",
       "             (11, 4, False): array([-29.76787618, -47.94680168]),\n",
       "             (11, 5, False): array([-48.0573303 , -45.53321251]),\n",
       "             (11, 6, False): array([-10.27292719, -48.68585774]),\n",
       "             (11, 7, False): array([-67.51633438, -41.34740417]),\n",
       "             (11, 8, False): array([-47.39499218, -43.82951556]),\n",
       "             (11, 9, False): array([-53.73935463, -52.26933578]),\n",
       "             (11, 10, False): array([-403.71184488, -209.12571772]),\n",
       "             (12, 1, False): array([-211.30405811,  -99.76826696]),\n",
       "             (12, 1, True): array([-14.14755555,  -4.8726    ]),\n",
       "             (12, 2, False): array([ -88.80509264, -104.7144327 ]),\n",
       "             (12, 2, True): array([-10.11586317,  -6.57665357]),\n",
       "             (12, 3, False): array([ -72.67669204, -119.69742335]),\n",
       "             (12, 3, True): array([ 4.16258007, -6.01818964]),\n",
       "             (12, 4, False): array([ -69.33715469, -106.4975973 ]),\n",
       "             (12, 4, True): array([-11.82727828,  -5.05258071]),\n",
       "             (12, 5, False): array([ -39.84693316, -118.28028785]),\n",
       "             (12, 5, True): array([-4.38376623, -4.01922   ]),\n",
       "             (12, 6, False): array([ -55.71741279, -110.18751684]),\n",
       "             (12, 6, True): array([-2.37027417, -5.00085   ]),\n",
       "             (12, 7, False): array([-114.82167064, -117.98215705]),\n",
       "             (12, 7, True): array([-10.34613165,  -6.26200393]),\n",
       "             (12, 8, False): array([-126.94705844, -113.33822322]),\n",
       "             (12, 8, True): array([-4.49300699, -6.6596875 ]),\n",
       "             (12, 9, False): array([-129.49560647, -117.74831542]),\n",
       "             (12, 9, True): array([-11.82113165,  -1.755     ]),\n",
       "             (12, 10, False): array([-641.23353942, -468.39473131]),\n",
       "             (12, 10, True): array([-40.75677454, -21.49592354]),\n",
       "             (13, 1, False): array([-192.85014943, -132.00798236]),\n",
       "             (13, 1, True): array([-21.9268847 , -13.30232288]),\n",
       "             (13, 2, False): array([ -57.23865429, -126.44831063]),\n",
       "             (13, 2, True): array([ -2.52784523, -12.13318499]),\n",
       "             (13, 3, False): array([ -64.39404635, -117.49933153]),\n",
       "             (13, 3, True): array([-7.07938275, -4.9605    ]),\n",
       "             (13, 4, False): array([ -60.18104142, -111.36993688]),\n",
       "             (13, 4, True): array([ -6.31354598, -13.09372615]),\n",
       "             (13, 5, False): array([   5.52554944, -121.00839441]),\n",
       "             (13, 5, True): array([-10.31876113,  -9.17607214]),\n",
       "             (13, 6, False): array([ -65.15827842, -129.44891697]),\n",
       "             (13, 6, True): array([ -4.47537218, -14.02098087]),\n",
       "             (13, 7, False): array([-114.42411397, -114.48399351]),\n",
       "             (13, 7, True): array([-12.66950997,  -8.86093341]),\n",
       "             (13, 8, False): array([-104.01902245, -129.31895912]),\n",
       "             (13, 8, True): array([-21.44422264, -11.21304158]),\n",
       "             (13, 9, False): array([-151.68407393, -122.30359307]),\n",
       "             (13, 9, True): array([-22.36743077,  -6.54212929]),\n",
       "             (13, 10, False): array([-493.7852746 , -497.24484274]),\n",
       "             (13, 10, True): array([-94.97689564, -46.67366641]),\n",
       "             (14, 1, False): array([-170.02662438, -128.42607503]),\n",
       "             (14, 1, True): array([-23.8712083 , -13.99536363]),\n",
       "             (14, 2, False): array([ -54.4666926 , -129.12608865]),\n",
       "             (14, 2, True): array([ -9.36242992, -14.13676525]),\n",
       "             (14, 3, False): array([ -42.73298501, -113.72230991]),\n",
       "             (14, 3, True): array([-10.61449885, -13.37836692]),\n",
       "             (14, 4, False): array([ -15.01290949, -133.26709663]),\n",
       "             (14, 4, True): array([  6.59154696, -11.43125666]),\n",
       "             (14, 5, False): array([ -27.18520244, -130.26367063]),\n",
       "             (14, 5, True): array([ 0.84343314, -7.50371429]),\n",
       "             (14, 6, False): array([ -62.69429883, -140.09504139]),\n",
       "             (14, 6, True): array([ 6.9732783 , -9.57578831]),\n",
       "             (14, 7, False): array([-121.54071767, -151.01507416]),\n",
       "             (14, 7, True): array([-14.95343568,  -5.12892   ]),\n",
       "             (14, 8, False): array([ -83.82761323, -127.63009038]),\n",
       "             (14, 8, True): array([-13.72399277,  -9.7562337 ]),\n",
       "             (14, 9, False): array([-118.90295062, -121.65377065]),\n",
       "             (14, 9, True): array([-12.77977436, -11.70456301]),\n",
       "             (14, 10, False): array([-590.00534674, -499.96156818]),\n",
       "             (14, 10, True): array([-64.9501828 , -46.98102884]),\n",
       "             (15, 1, False): array([-143.82272234, -139.93764435]),\n",
       "             (15, 1, True): array([-13.40015708, -16.80196755]),\n",
       "             (15, 2, False): array([ -49.53957104, -164.71543103]),\n",
       "             (15, 2, True): array([ -9.11596471, -12.82865318]),\n",
       "             (15, 3, False): array([ -65.29098592, -116.38349833]),\n",
       "             (15, 3, True): array([-1.67555977, -7.97641714]),\n",
       "             (15, 4, False): array([ -13.02450494, -147.17957414]),\n",
       "             (15, 4, True): array([-11.92423814, -14.48567508]),\n",
       "             (15, 5, False): array([ -41.92402396, -117.04764536]),\n",
       "             (15, 5, True): array([-5.14140399, -9.66044506]),\n",
       "             (15, 6, False): array([ -43.59474893, -127.33605188]),\n",
       "             (15, 6, True): array([ -1.89383237, -13.1887003 ]),\n",
       "             (15, 7, False): array([ -91.31984318, -132.43389562]),\n",
       "             (15, 7, True): array([-18.06762525, -11.74432863]),\n",
       "             (15, 8, False): array([ -82.61315707, -122.35087198]),\n",
       "             (15, 8, True): array([ -2.91686107, -17.97114977]),\n",
       "             (15, 9, False): array([-100.93247261, -141.4146718 ]),\n",
       "             (15, 9, True): array([-31.89302125, -12.63365917]),\n",
       "             (15, 10, False): array([-456.66416171, -533.40049565]),\n",
       "             (15, 10, True): array([-86.64285541, -46.48494915]),\n",
       "             (16, 1, False): array([-155.0507151 , -138.50919794]),\n",
       "             (16, 1, True): array([-27.15325806, -18.76659665]),\n",
       "             (16, 2, False): array([ -27.13363658, -135.33173371]),\n",
       "             (16, 2, True): array([-10.16171561, -21.47581052]),\n",
       "             (16, 3, False): array([ -29.68547319, -138.38574904]),\n",
       "             (16, 3, True): array([-12.24719649, -15.81354461]),\n",
       "             (16, 4, False): array([ -64.20862415, -151.02940674]),\n",
       "             (16, 4, True): array([ -3.91019812, -12.43519572]),\n",
       "             (16, 5, False): array([ -27.61632035, -139.76921255]),\n",
       "             (16, 5, True): array([ -3.07262864, -12.96501184]),\n",
       "             (16, 6, False): array([ -17.68972452, -127.95828161]),\n",
       "             (16, 6, True): array([-11.13145756, -13.12356605]),\n",
       "             (16, 7, False): array([-109.55226483, -142.93260855]),\n",
       "             (16, 7, True): array([-19.31147421, -10.17864193]),\n",
       "             (16, 8, False): array([-101.01296913, -129.10465487]),\n",
       "             (16, 8, True): array([ -8.28758126, -19.71556965]),\n",
       "             (16, 9, False): array([-120.35679157, -124.05917031]),\n",
       "             (16, 9, True): array([-24.42290539, -10.58168589]),\n",
       "             (16, 10, False): array([-336.09158586, -543.29401662]),\n",
       "             (16, 10, True): array([-65.90694044, -58.07810024]),\n",
       "             (17, 1, False): array([-120.09730229, -149.22127563]),\n",
       "             (17, 1, True): array([-20.14656938, -14.94871228]),\n",
       "             (17, 2, False): array([ -18.99085899, -147.06156835]),\n",
       "             (17, 2, True): array([ -0.12768541, -21.47592268]),\n",
       "             (17, 3, False): array([   9.30143781, -131.6507053 ]),\n",
       "             (17, 3, True): array([ -3.27212155, -13.96740178]),\n",
       "             (17, 4, False): array([ -16.21076871, -132.3204056 ]),\n",
       "             (17, 4, True): array([ -0.77431817, -18.28218767]),\n",
       "             (17, 5, False): array([  -2.73473237, -137.70117597]),\n",
       "             (17, 5, True): array([ -2.46443952, -14.88589005]),\n",
       "             (17, 6, False): array([   4.35998769, -183.45071148]),\n",
       "             (17, 6, True): array([-11.39509489, -17.15167346]),\n",
       "             (17, 7, False): array([ -30.70121382, -157.54569898]),\n",
       "             (17, 7, True): array([  3.41047552, -17.7901381 ]),\n",
       "             (17, 8, False): array([ -80.72706197, -148.04189467]),\n",
       "             (17, 8, True): array([ -8.10032368, -14.4593486 ]),\n",
       "             (17, 9, False): array([ -69.41025469, -144.89042657]),\n",
       "             (17, 9, True): array([ -4.04356197, -16.04991377]),\n",
       "             (17, 10, False): array([-285.94712186, -609.08741634]),\n",
       "             (17, 10, True): array([-84.49714519, -66.78281361]),\n",
       "             (18, 1, False): array([ -67.92007586, -155.4986258 ]),\n",
       "             (18, 1, True): array([-19.59628313, -24.27917856]),\n",
       "             (18, 2, False): array([  31.72543743, -175.08959831]),\n",
       "             (18, 2, True): array([ -0.23470936, -14.01406332]),\n",
       "             (18, 3, False): array([  47.76354373, -150.7031927 ]),\n",
       "             (18, 3, True): array([ -0.16087784, -16.56320262]),\n",
       "             (18, 4, False): array([  14.25726547, -162.79152142]),\n",
       "             (18, 4, True): array([ 13.43915215, -11.25272243]),\n",
       "             (18, 5, False): array([   8.02994952, -152.96570779]),\n",
       "             (18, 5, True): array([ -2.22979671, -25.40317074]),\n",
       "             (18, 6, False): array([  45.15731597, -165.11099249]),\n",
       "             (18, 6, True): array([ 23.10811101, -13.85485394]),\n",
       "             (18, 7, False): array([  64.88030988, -153.81033622]),\n",
       "             (18, 7, True): array([ 22.33039586, -14.99934484]),\n",
       "             (18, 8, False): array([  42.35965604, -147.13805426]),\n",
       "             (18, 8, True): array([  2.5042136, -13.6565628]),\n",
       "             (18, 9, False): array([ -43.38270124, -164.63518879]),\n",
       "             (18, 9, True): array([  2.16356803, -20.80460607]),\n",
       "             (18, 10, False): array([-136.76584851, -591.9107374 ]),\n",
       "             (18, 10, True): array([-37.69843415, -74.03084044]),\n",
       "             (19, 1, False): array([ -39.96432045, -144.14886468]),\n",
       "             (19, 1, True): array([ -1.23905011, -12.66259366]),\n",
       "             (19, 2, False): array([  80.4324504 , -162.50818357]),\n",
       "             (19, 2, True): array([ 18.46993558, -22.90758113]),\n",
       "             (19, 3, False): array([  50.38379821, -169.32049941]),\n",
       "             (19, 3, True): array([  4.64743868, -12.93436613]),\n",
       "             (19, 4, False): array([  49.97297799, -139.90502881]),\n",
       "             (19, 4, True): array([  7.77770656, -21.73142055]),\n",
       "             (19, 5, False): array([  34.65663724, -149.81470106]),\n",
       "             (19, 5, True): array([ 19.81190876, -15.6729136 ]),\n",
       "             (19, 6, False): array([  66.88901308, -141.91213631]),\n",
       "             (19, 6, True): array([ 15.42504805, -23.41506762]),\n",
       "             (19, 7, False): array([  64.54912007, -144.59189937]),\n",
       "             (19, 7, True): array([ 27.95697414, -20.91650737]),\n",
       "             (19, 8, False): array([  91.66966967, -173.60274552]),\n",
       "             (19, 8, True): array([ 14.12208667, -15.3115393 ]),\n",
       "             (19, 9, False): array([  36.99256952, -145.90804591]),\n",
       "             (19, 9, True): array([ 14.77749102, -14.04871919]),\n",
       "             (19, 10, False): array([  48.1071759 , -578.31721793]),\n",
       "             (19, 10, True): array([  9.34376686, -67.74548998]),\n",
       "             (20, 1, False): array([  35.46560857, -238.23739132]),\n",
       "             (20, 1, True): array([ -1.08756601, -18.48578516]),\n",
       "             (20, 2, False): array([ 171.08643334, -210.54475664]),\n",
       "             (20, 2, True): array([ 19.32959708, -21.39997007]),\n",
       "             (20, 3, False): array([ 156.4888222 , -242.47740489]),\n",
       "             (20, 3, True): array([ 14.33412061, -12.32635067]),\n",
       "             (20, 4, False): array([ 189.53971042, -224.04593823]),\n",
       "             (20, 4, True): array([ 17.77436991, -18.43161035]),\n",
       "             (20, 5, False): array([ 135.27888487, -230.28976488]),\n",
       "             (20, 5, True): array([ 16.1447588 , -20.50637688]),\n",
       "             (20, 6, False): array([ 187.44222409, -243.22517106]),\n",
       "             (20, 6, True): array([ 23.53159046, -18.38256139]),\n",
       "             (20, 7, False): array([ 213.31451034, -213.4352018 ]),\n",
       "             (20, 7, True): array([ 28.62793079, -23.27661302]),\n",
       "             (20, 8, False): array([ 210.61246702, -234.72287343]),\n",
       "             (20, 8, True): array([ 34.84591238, -19.98667262]),\n",
       "             (20, 9, False): array([ 191.30593853, -201.59384287]),\n",
       "             (20, 9, True): array([ 38.25440044, -15.96924137]),\n",
       "             (20, 10, False): array([ 413.09415853, -909.46672273]),\n",
       "             (20, 10, True): array([ 69.21174061, -79.90457245]),\n",
       "             (21, 1, False): array([   1., -143.]),\n",
       "             (21, 1, True): array([ 87.80875867, -51.31466968]),\n",
       "             (21, 2, False): array([   0., -155.]),\n",
       "             (21, 2, True): array([108.24211282, -53.99619952]),\n",
       "             (21, 3, False): array([   0., -134.]),\n",
       "             (21, 3, True): array([140.48899089, -48.26546685]),\n",
       "             (21, 4, False): array([   0., -159.]),\n",
       "             (21, 4, True): array([116.36815807, -65.96875129]),\n",
       "             (21, 5, False): array([   0., -137.]),\n",
       "             (21, 5, True): array([114.85922236, -57.29786246]),\n",
       "             (21, 6, False): array([   0., -167.]),\n",
       "             (21, 6, True): array([130.90588472, -56.71828135]),\n",
       "             (21, 7, False): array([   0., -141.]),\n",
       "             (21, 7, True): array([127.67218785, -52.05010352]),\n",
       "             (21, 8, False): array([   1., -158.]),\n",
       "             (21, 8, True): array([ 97.54076036, -70.84078195]),\n",
       "             (21, 9, False): array([   0., -139.]),\n",
       "             (21, 9, True): array([143.04126894, -60.00080053]),\n",
       "             (21, 10, False): array([   0., -555.]),\n",
       "             (21, 10, True): array([ 509.15512425, -226.85786797])})"
      ]
     },
     "execution_count": 18,
     "metadata": {},
     "output_type": "execute_result"
    }
   ],
   "source": [
    "Q"
   ]
  },
  {
   "cell_type": "code",
   "execution_count": 17,
   "metadata": {},
   "outputs": [
    {
     "data": {
      "text/plain": [
       "[<matplotlib.lines.Line2D at 0x7fcc41075c50>]"
      ]
     },
     "execution_count": 17,
     "metadata": {},
     "output_type": "execute_result"
    },
    {
     "data": {
      "image/png": "[encoded data removed]",
      "text/plain": [
       "<Figure size 432x288 with 1 Axes>"
      ]
     },
     "metadata": {},
     "output_type": "display_data"
    }
   ],
   "source": [
    "plt.plot(total_episode_rewards[::500], 'o')"
   ]
  }
 ],
 "metadata": {
  "kernelspec": {
   "display_name": "Python 3",
   "language": "python",
   "name": "python3"
  },
  "language_info": {
   "codemirror_mode": {
    "name": "ipython",
    "version": 3
   },
   "file_extension": ".py",
   "mimetype": "text/x-python",
   "name": "python",
   "nbconvert_exporter": "python",
   "pygments_lexer": "ipython3",
   "version": "3.5.2"
  }
 },
 "nbformat": 4,
 "nbformat_minor": 2
}
