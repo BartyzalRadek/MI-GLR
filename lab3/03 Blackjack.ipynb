{
 "cells": [
  {
   "cell_type": "code",
   "execution_count": 9,
   "metadata": {},
   "outputs": [],
   "source": [
    "import gym\n",
    "import numpy as np\n",
    "import matplotlib.pyplot as plt\n",
    "import pandas as pd\n",
    "import seaborn as sns\n",
    "from collections import defaultdict\n",
    "from tqdm import tqdm"
   ]
  },
  {
   "cell_type": "code",
   "execution_count": 3,
   "metadata": {
    "scrolled": true
   },
   "outputs": [],
   "source": [
    "env = gym.make('Blackjack-v0')"
   ]
  },
  {
   "cell_type": "code",
   "execution_count": 4,
   "metadata": {},
   "outputs": [
    {
     "name": "stdout",
     "output_type": "stream",
     "text": [
      "Simple blackjack environment\n",
      "\n",
      "    Blackjack is a card game where the goal is to obtain cards that sum to as\n",
      "    near as possible to 21 without going over.  They're playing against a fixed\n",
      "    dealer.\n",
      "    Face cards (Jack, Queen, King) have point value 10.\n",
      "    Aces can either count as 11 or 1, and it's called 'usable' at 11.\n",
      "    This game is placed with an infinite deck (or with replacement).\n",
      "    The game starts with each (player and dealer) having one face up and one\n",
      "    face down card.\n",
      "\n",
      "    The player can request additional cards (hit=1) until they decide to stop\n",
      "    (stick=0) or exceed 21 (bust).\n",
      "\n",
      "    After the player sticks, the dealer reveals their facedown card, and draws\n",
      "    until their sum is 17 or greater.  If the dealer goes bust the player wins.\n",
      "\n",
      "    If neither player nor dealer busts, the outcome (win, lose, draw) is\n",
      "    decided by whose sum is closer to 21.  The reward for winning is +1,\n",
      "    drawing is 0, and losing is -1.\n",
      "\n",
      "    The observation of a 3-tuple of: the players current sum,\n",
      "    the dealer's one showing card (1-10 where 1 is ace),\n",
      "    and whether or not the player holds a usable ace (0 or 1).\n",
      "\n",
      "    This environment corresponds to the version of the blackjack problem\n",
      "    described in Example 5.1 in Reinforcement Learning: An Introduction\n",
      "    by Sutton and Barto (1998).\n",
      "    http://incompleteideas.net/sutton/book/the-book.html\n",
      "    \n"
     ]
    }
   ],
   "source": [
    "print(env.__doc__)"
   ]
  },
  {
   "cell_type": "code",
   "execution_count": 5,
   "metadata": {},
   "outputs": [],
   "source": [
    "## The code below shows how to implement GLIE.\n",
    "\n",
    "def sample_policy(state):\n",
    "    \"Stick at 20, otherwise hit\"\n",
    "    score, dealer_score, usable_ace = state\n",
    "    return 0 if score >= 20 else 1\n",
    "\n",
    "def epsilon_greedy_policy(state, Q, eps):\n",
    "    \"\"\"\n",
    "    epsilon = prob to play randomly\n",
    "    1 - eps = prob to play the action with best Q value = argmax(Q[s][:])\n",
    "    \"\"\"\n",
    "    if np.random.uniform() > epsilon:\n",
    "        return np.argmax(Q[s][:])\n",
    "    else:\n",
    "        number_of_actions = 2\n",
    "        return np.random.randint(number_of_actions)\n",
    "\n",
    "def run_episode(env, policy): \n",
    "    done = False\n",
    "    state = env.reset()\n",
    "    episode = []\n",
    "    while not done:\n",
    "        action = policy(state)\n",
    "        new_state, reward, done, _ = env.step(action)\n",
    "        episode.append((state,action,reward))\n",
    "        state = new_state    \n",
    "    return episode"
   ]
  },
  {
   "cell_type": "code",
   "execution_count": 6,
   "metadata": {},
   "outputs": [
    {
     "name": "stdout",
     "output_type": "stream",
     "text": [
      "ep =  [((20, 9, False), 0, -1.0)]\n",
      "reward = -1.0\n"
     ]
    }
   ],
   "source": [
    "episode = run_episode(env, sample_policy)\n",
    "ep_reward = sum(x[2]*(0.9**i) for i, x in enumerate(episode))\n",
    "print(\"ep = \", episode)\n",
    "print(\"reward =\", ep_reward)"
   ]
  },
  {
   "cell_type": "markdown",
   "metadata": {},
   "source": [
    "### Prediciton problem\n",
    " = estimate return of the policy"
   ]
  },
  {
   "cell_type": "code",
   "execution_count": 25,
   "metadata": {},
   "outputs": [
    {
     "name": "stderr",
     "output_type": "stream",
     "text": [
      "100%|██████████| 50000/50000 [00:04<00:00, 11439.88it/s]\n"
     ]
    }
   ],
   "source": [
    "n_iter = 50000\n",
    "\n",
    "gamma = 0.9 # discount factor\n",
    "\n",
    "Q = defaultdict(lambda: np.zeros(env.action_space.n)) # Q function\n",
    "R = defaultdict(lambda: np.zeros(env.action_space.n)) # Sum of first-visit rewards of a certain (state, action)\n",
    "N = defaultdict(lambda: np.zeros(env.action_space.n)) # Number of first-visits of a certain (state, action)\n",
    "\n",
    "for j in tqdm(range(n_iter)):\n",
    "    episode = run_episode(env,sample_policy) # run till losing\n",
    "    ep_reward = sum(x[2]*(gamma**i) for i, x in enumerate(episode)) # episode = list of (state,action,reward)\n",
    "    \n",
    "    sa_in_episode = set([(tuple(x[0]),x[1]) for x in episode]) # each state is converted to a tuple to use as dict key\n",
    "    \n",
    "    # Find first visit of each (state,action) in the episode\n",
    "    for s,a in sa_in_episode:\n",
    "        first_visit = next(i for i,x in enumerate(episode) if x[0]==s and x[1]==a)\n",
    "        \n",
    "        G = sum(x[2]*(gamma**i) for i, x in enumerate(episode[first_visit:])) # calc reward from this (s,a) till the end of the episode\n",
    "        R[s][a] += G\n",
    "        N[s][a] += 1\n",
    "        Q[s][a] += R[s][a]/N[s][a] # update Q-function"
   ]
  },
  {
   "cell_type": "code",
   "execution_count": 30,
   "metadata": {},
   "outputs": [],
   "source": [
    "V = defaultdict(float)\n",
    "for state, actions in Q.items():\n",
    "    action_value = np.max(actions)\n",
    "    V[state] = action_value\n",
    "\n",
    "keys = sorted(V.keys())\n",
    "score = [k[0] for k in keys]\n",
    "dealer_score = [k[1] for k in keys]\n",
    "usable = [k[2] for k in keys]\n",
    "vals = [V[k] for k in keys] \n",
    "\n",
    "df = pd.DataFrame({'score':score,'dealer_score':dealer_score,'usable':usable, 'val':vals})"
   ]
  },
  {
   "cell_type": "code",
   "execution_count": 31,
   "metadata": {},
   "outputs": [
    {
     "data": {
      "text/plain": [
       "Text(0.5,1,'Usable ace')"
      ]
     },
     "execution_count": 31,
     "metadata": {},
     "output_type": "execute_result"
    },
    {
     "data": {
      "image/png": "[encoded data removed]",
      "text/plain": [
       "<Figure size 432x288 with 2 Axes>"
      ]
     },
     "metadata": {},
     "output_type": "display_data"
    }
   ],
   "source": [
    "ax = plt.axes()\n",
    "sns.heatmap(df[df['usable']==True].pivot('dealer_score','score','val'), ax = ax)\n",
    "ax.set_title(\"Usable ace\")"
   ]
  },
  {
   "cell_type": "code",
   "execution_count": 32,
   "metadata": {},
   "outputs": [
    {
     "data": {
      "text/plain": [
       "Text(0.5,1,'Non-usable ace')"
      ]
     },
     "execution_count": 32,
     "metadata": {},
     "output_type": "execute_result"
    },
    {
     "data": {
      "image/png": "[encoded data removed]",
      "text/plain": [
       "<Figure size 432x288 with 2 Axes>"
      ]
     },
     "metadata": {},
     "output_type": "display_data"
    }
   ],
   "source": [
    "ax = plt.axes()\n",
    "sns.heatmap(df[df['usable']==False].pivot('dealer_score','score','val'), ax = ax)\n",
    "ax.set_title(\"Non-usable ace\")"
   ]
  },
  {
   "cell_type": "markdown",
   "metadata": {},
   "source": [
    "## Your turn:\n",
    "\n",
    "- Can you modify the code above to implement first-visit Montecarlo with GLIE (\"Greedy in the limit with infinite exploration\")?\n",
    "- Plot the value function"
   ]
  },
  {
   "cell_type": "markdown",
   "metadata": {},
   "source": [
    "### Control problem\n",
    " = choose policy giving best returns\n",
    "\n",
    "First visit $\\pi$ -> Q:\n",
    "1. start with randomly initialized Q function = quality of (state, action) \n",
    "2. Q function determines the policy => $\\epsilon$-greedy strategy selects best action for a state\n",
    "3. $\\epsilon$ <- f($\\epsilon$), f = decreasing function such as f(x) = $\\gamma*x$\n",
    "    $\\epsilon$ = 1 = play randomly\n",
    "    \n",
    "    $\\epsilon$ = 0.9 = play random action 90% of time, 10% of time choose best action acc to Q function = argmax(Q[s][:]) \n",
    "    \n",
    "    Decrease $\\epsilon$ with time = Greedy in the limit with infinite exploration.\n",
    "    \n",
    "**Policy** = which action to take in which state\n",
    "\n",
    "**Q function** = returns quality of a (state, action) pair. E.g. table with \n",
    "\n",
    "$$\n",
    "\\frac{ sum of first-visit rewards } { # of first-visits } \n",
    "$$\n",
    "\n",
    "for each (state, action)\n",
    "\n",
    "**First-visit reward** = cumulative reward of a certain (state, action) pair = sum of rewards collected after the first occurence of the (state, action) pair till the end of the episode.\n",
    "\n",
    "**Updating Q function:** After each episode we update the Q function = Q table with quality of states or we can update after a certain number of episodes = that batch of episodes without cumulating rewards is called roll-out."
   ]
  },
  {
   "cell_type": "code",
   "execution_count": 10,
   "metadata": {},
   "outputs": [
    {
     "name": "stderr",
     "output_type": "stream",
     "text": [
      "100%|██████████| 50000/50000 [00:03<00:00, 14629.41it/s]\n"
     ]
    }
   ],
   "source": [
    "def epsilon_greedy_policy(state, Q, eps):\n",
    "    \"\"\"\n",
    "    epsilon = prob to play randomly\n",
    "    1 - eps = prob to play the action with best Q value = argmax(Q[s][:])\n",
    "    \"\"\"\n",
    "    if np.random.uniform() > eps:\n",
    "        return np.argmax(Q[s][:])\n",
    "    else:\n",
    "        number_of_actions = 2\n",
    "        return np.random.randint(number_of_actions)\n",
    "\n",
    "def run_episode(env, Q, eps): \n",
    "    done = False\n",
    "    state = env.reset()\n",
    "    episode = []\n",
    "    while not done:\n",
    "        action = epsilon_greedy_policy(state, Q, eps)\n",
    "        new_state, reward, done, _ = env.step(action)\n",
    "        episode.append((state,action,reward))\n",
    "        state = new_state    \n",
    "    return episode # list of (state,action,reward)\n",
    "\n",
    "n_iter = 50000\n",
    "gamma = 0.9 # discount factor\n",
    "eps = 1.0\n",
    "total_episode_rewards = []\n",
    "\n",
    "Q = defaultdict(lambda: np.zeros(env.action_space.n)) # Q function\n",
    "R = defaultdict(lambda: np.zeros(env.action_space.n)) # Sum of first-visit rewards of a certain (state, action)\n",
    "N = defaultdict(lambda: np.zeros(env.action_space.n)) # Number of first-visits of a certain (state, action)\n",
    "\n",
    "for j in tqdm(range(n_iter)):\n",
    "    episode = run_episode(env, Q, eps) # run till losing\n",
    "    eps *= 0.95 # decrease epsilon\n",
    "    \n",
    "    ep_reward = sum(x[2]*(gamma**i) for i, x in enumerate(episode)) # episode = list of (state,action,reward)\n",
    "    total_episode_rewards.append(ep_reward) # only for logging\n",
    "    \n",
    "    # each move in a episode is converted to a tuple of (state, action) to use as dict key\n",
    "    sa_in_episode = set([(tuple(x[0]),x[1]) for x in episode]) \n",
    "    \n",
    "    # Find first visit of each (state,action) in the episode\n",
    "    for s,a in sa_in_episode:\n",
    "        first_visit = next(i for i,x in enumerate(episode) if x[0]==s and x[1]==a)\n",
    "        \n",
    "        G = sum(x[2]*(gamma**i) for i, x in enumerate(episode[first_visit:])) # calc reward from this (s,a) till the end of the episode\n",
    "        R[s][a] += G\n",
    "        N[s][a] += 1\n",
    "        Q[s][a] += R[s][a]/N[s][a] # update Q-function"
   ]
  },
  {
   "cell_type": "code",
   "execution_count": 17,
   "metadata": {},
   "outputs": [
    {
     "data": {
      "text/plain": [
       "[<matplotlib.lines.Line2D at 0x7fcc41075c50>]"
      ]
     },
     "execution_count": 17,
     "metadata": {},
     "output_type": "execute_result"
    },
    {
     "data": {
      "image/png": "[encoded data removed]",
      "text/plain": [
       "<Figure size 432x288 with 1 Axes>"
      ]
     },
     "metadata": {},
     "output_type": "display_data"
    }
   ],
   "source": [
    "plt.plot(total_episode_rewards[::500], 'o')"
   ]
  },
  {
   "cell_type": "code",
   "execution_count": null,
   "metadata": {},
   "outputs": [],
   "source": []
  }
 ],
 "metadata": {
  "kernelspec": {
   "display_name": "Python 3",
   "language": "python",
   "name": "python3"
  },
  "language_info": {
   "codemirror_mode": {
    "name": "ipython",
    "version": 3
   },
   "file_extension": ".py",
   "mimetype": "text/x-python",
   "name": "python",
   "nbconvert_exporter": "python",
   "pygments_lexer": "ipython3",
   "version": "3.5.2"
  }
 },
 "nbformat": 4,
 "nbformat_minor": 2
}
